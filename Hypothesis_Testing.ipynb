{
 "cells": [
  {
   "cell_type": "markdown",
   "metadata": {},
   "source": [
    "# Hypothesis Testing Phone Plan Revenues"
   ]
  },
  {
   "cell_type": "markdown",
   "metadata": {},
   "source": [
    "Summary: In this project, a preliminary analysis of two plans offered by Megaline was done on a small client selection (500 Megaline clients) to determine which of the plans brings in more revenue in order to adjust the advertising budget. The data sets were explored, cleaned and merged. Data was visualized for understanding customer behavior in using the services and revenue distribution for the two plans. \n",
    "\n",
    "Prompt: The telecom operator Megaline offers its clients two prepaid plans, Surf and Ultimate. The commercial department wants to know which of the plans brings in more revenue in order to adjust the advertising budget. This is a preliminary analysis of the plans based on a relatively small client selection (500 Megaline clients)\n",
    "\n",
    "The data for 2018:\n",
    "* megaline_plans.csv — plans, what is included in each and the cost of exceeding those included services. \n",
    "* megaline_users.csv — 500 users, their info and plan, start and end dates\n",
    "* megaline_calls.csv — calls and duration of calls\n",
    "* megaline_internet.csv — mb used for each session \n",
    "* megaline_messages.csv — messages sent "
   ]
  },
  {
   "cell_type": "markdown",
   "metadata": {},
   "source": [
    "**Goal: Determine which plan brings in more monthly revenue and look into the behavior of the clients for messages, calls and internet use.**"
   ]
  },
  {
   "cell_type": "code",
   "execution_count": 323,
   "metadata": {},
   "outputs": [],
   "source": [
    "# Loading all the libraries\n",
    "import pandas as pd\n",
    "import numpy as np \n",
    "from matplotlib import pyplot as plt\n",
    "import seaborn as sns\n",
    "from scipy import stats as st"
   ]
  },
  {
   "cell_type": "markdown",
   "metadata": {},
   "source": [
    "# Load and Explore Datasets"
   ]
  },
  {
   "cell_type": "code",
   "execution_count": 324,
   "metadata": {},
   "outputs": [],
   "source": [
    "# Load the data files into different DataFrames\n",
    "mg_calls = pd.read_csv('/datasets/megaline_calls.csv')\n",
    "mg_internet = pd.read_csv('/datasets/megaline_internet.csv')\n",
    "mg_messages = pd.read_csv('/datasets/megaline_messages.csv')\n",
    "mg_plans = pd.read_csv('/datasets/megaline_plans.csv')\n",
    "mg_users = pd.read_csv('/datasets/megaline_users.csv')\n"
   ]
  },
  {
   "cell_type": "code",
   "execution_count": 325,
   "metadata": {},
   "outputs": [],
   "source": [
    "# function for getting an overview of datasets\n",
    "def explore_data(data):\n",
    "    \n",
    "    # general/summary information about the DataFrame\n",
    "    print(data.info())\n",
    "    \n",
    "    # sample of data\n",
    "    display(data.sample(2))\n",
    "    \n",
    "    # null and duplicates count for entire dataset\n",
    "    print(f'Null: {data.isna().sum().sum()}')\n",
    "    print(f'Duplicates: {data.duplicated().sum()}')\n",
    "    \n",
    "    return"
   ]
  },
  {
   "cell_type": "markdown",
   "metadata": {},
   "source": [
    "## Plans Data"
   ]
  },
  {
   "cell_type": "code",
   "execution_count": 326,
   "metadata": {},
   "outputs": [
    {
     "name": "stdout",
     "output_type": "stream",
     "text": [
      "<class 'pandas.core.frame.DataFrame'>\n",
      "RangeIndex: 2 entries, 0 to 1\n",
      "Data columns (total 8 columns):\n",
      " #   Column                 Non-Null Count  Dtype  \n",
      "---  ------                 --------------  -----  \n",
      " 0   messages_included      2 non-null      int64  \n",
      " 1   mb_per_month_included  2 non-null      int64  \n",
      " 2   minutes_included       2 non-null      int64  \n",
      " 3   usd_monthly_pay        2 non-null      int64  \n",
      " 4   usd_per_gb             2 non-null      int64  \n",
      " 5   usd_per_message        2 non-null      float64\n",
      " 6   usd_per_minute         2 non-null      float64\n",
      " 7   plan_name              2 non-null      object \n",
      "dtypes: float64(2), int64(5), object(1)\n",
      "memory usage: 256.0+ bytes\n",
      "None\n"
     ]
    },
    {
     "data": {
      "text/html": [
       "<div>\n",
       "<style scoped>\n",
       "    .dataframe tbody tr th:only-of-type {\n",
       "        vertical-align: middle;\n",
       "    }\n",
       "\n",
       "    .dataframe tbody tr th {\n",
       "        vertical-align: top;\n",
       "    }\n",
       "\n",
       "    .dataframe thead th {\n",
       "        text-align: right;\n",
       "    }\n",
       "</style>\n",
       "<table border=\"1\" class=\"dataframe\">\n",
       "  <thead>\n",
       "    <tr style=\"text-align: right;\">\n",
       "      <th></th>\n",
       "      <th>messages_included</th>\n",
       "      <th>mb_per_month_included</th>\n",
       "      <th>minutes_included</th>\n",
       "      <th>usd_monthly_pay</th>\n",
       "      <th>usd_per_gb</th>\n",
       "      <th>usd_per_message</th>\n",
       "      <th>usd_per_minute</th>\n",
       "      <th>plan_name</th>\n",
       "    </tr>\n",
       "  </thead>\n",
       "  <tbody>\n",
       "    <tr>\n",
       "      <th>1</th>\n",
       "      <td>1000</td>\n",
       "      <td>30720</td>\n",
       "      <td>3000</td>\n",
       "      <td>70</td>\n",
       "      <td>7</td>\n",
       "      <td>0.01</td>\n",
       "      <td>0.01</td>\n",
       "      <td>ultimate</td>\n",
       "    </tr>\n",
       "    <tr>\n",
       "      <th>0</th>\n",
       "      <td>50</td>\n",
       "      <td>15360</td>\n",
       "      <td>500</td>\n",
       "      <td>20</td>\n",
       "      <td>10</td>\n",
       "      <td>0.03</td>\n",
       "      <td>0.03</td>\n",
       "      <td>surf</td>\n",
       "    </tr>\n",
       "  </tbody>\n",
       "</table>\n",
       "</div>"
      ],
      "text/plain": [
       "   messages_included  mb_per_month_included  minutes_included  \\\n",
       "1               1000                  30720              3000   \n",
       "0                 50                  15360               500   \n",
       "\n",
       "   usd_monthly_pay  usd_per_gb  usd_per_message  usd_per_minute plan_name  \n",
       "1               70           7             0.01            0.01  ultimate  \n",
       "0               20          10             0.03            0.03      surf  "
      ]
     },
     "metadata": {},
     "output_type": "display_data"
    },
    {
     "name": "stdout",
     "output_type": "stream",
     "text": [
      "Null: 0\n",
      "Duplicates: 0\n"
     ]
    }
   ],
   "source": [
    "explore_data(mg_plans)"
   ]
  },
  {
   "cell_type": "markdown",
   "metadata": {},
   "source": [
    "The plans dataframe cosists of the features included with the two plans offered at Megaline and the costs. \n",
    "* The index for the mg_plans df could be replaced with the 'plan_name' column. \n",
    "* All the data types for this df are appropriate. \n",
    "* usd_monthly_pay is the base \n",
    "* usd_per_gb\tusd_per_message\tusd_per_minute should be calcuated based on the uses for each client after exceeding the features given with the clients plan. \n",
    "* revenue would be the sum of the base and the cost of the exceeding gb, messages and call minutes. \n"
   ]
  },
  {
   "cell_type": "markdown",
   "metadata": {},
   "source": [
    "## Users Data"
   ]
  },
  {
   "cell_type": "code",
   "execution_count": 327,
   "metadata": {},
   "outputs": [
    {
     "name": "stdout",
     "output_type": "stream",
     "text": [
      "<class 'pandas.core.frame.DataFrame'>\n",
      "RangeIndex: 500 entries, 0 to 499\n",
      "Data columns (total 8 columns):\n",
      " #   Column      Non-Null Count  Dtype \n",
      "---  ------      --------------  ----- \n",
      " 0   user_id     500 non-null    int64 \n",
      " 1   first_name  500 non-null    object\n",
      " 2   last_name   500 non-null    object\n",
      " 3   age         500 non-null    int64 \n",
      " 4   city        500 non-null    object\n",
      " 5   reg_date    500 non-null    object\n",
      " 6   plan        500 non-null    object\n",
      " 7   churn_date  34 non-null     object\n",
      "dtypes: int64(2), object(6)\n",
      "memory usage: 31.4+ KB\n",
      "None\n"
     ]
    },
    {
     "data": {
      "text/html": [
       "<div>\n",
       "<style scoped>\n",
       "    .dataframe tbody tr th:only-of-type {\n",
       "        vertical-align: middle;\n",
       "    }\n",
       "\n",
       "    .dataframe tbody tr th {\n",
       "        vertical-align: top;\n",
       "    }\n",
       "\n",
       "    .dataframe thead th {\n",
       "        text-align: right;\n",
       "    }\n",
       "</style>\n",
       "<table border=\"1\" class=\"dataframe\">\n",
       "  <thead>\n",
       "    <tr style=\"text-align: right;\">\n",
       "      <th></th>\n",
       "      <th>user_id</th>\n",
       "      <th>first_name</th>\n",
       "      <th>last_name</th>\n",
       "      <th>age</th>\n",
       "      <th>city</th>\n",
       "      <th>reg_date</th>\n",
       "      <th>plan</th>\n",
       "      <th>churn_date</th>\n",
       "    </tr>\n",
       "  </thead>\n",
       "  <tbody>\n",
       "    <tr>\n",
       "      <th>321</th>\n",
       "      <td>1321</td>\n",
       "      <td>Karlyn</td>\n",
       "      <td>Jimenez</td>\n",
       "      <td>19</td>\n",
       "      <td>North Port-Sarasota-Bradenton, FL MSA</td>\n",
       "      <td>2018-05-31</td>\n",
       "      <td>surf</td>\n",
       "      <td>NaN</td>\n",
       "    </tr>\n",
       "    <tr>\n",
       "      <th>401</th>\n",
       "      <td>1401</td>\n",
       "      <td>Charmain</td>\n",
       "      <td>Bryant</td>\n",
       "      <td>67</td>\n",
       "      <td>Richmond, VA MSA</td>\n",
       "      <td>2018-08-24</td>\n",
       "      <td>ultimate</td>\n",
       "      <td>NaN</td>\n",
       "    </tr>\n",
       "  </tbody>\n",
       "</table>\n",
       "</div>"
      ],
      "text/plain": [
       "     user_id first_name last_name  age                                   city  \\\n",
       "321     1321     Karlyn   Jimenez   19  North Port-Sarasota-Bradenton, FL MSA   \n",
       "401     1401   Charmain    Bryant   67                       Richmond, VA MSA   \n",
       "\n",
       "       reg_date      plan churn_date  \n",
       "321  2018-05-31      surf        NaN  \n",
       "401  2018-08-24  ultimate        NaN  "
      ]
     },
     "metadata": {},
     "output_type": "display_data"
    },
    {
     "name": "stdout",
     "output_type": "stream",
     "text": [
      "Null: 466\n",
      "Duplicates: 0\n"
     ]
    }
   ],
   "source": [
    "explore_data(mg_users)"
   ]
  },
  {
   "cell_type": "code",
   "execution_count": 328,
   "metadata": {},
   "outputs": [
    {
     "name": "stdout",
     "output_type": "stream",
     "text": [
      "Min date: 2018-01-01 \n",
      "Max date: 2018-12-31\n"
     ]
    }
   ],
   "source": [
    "# what is the timeframe of this dataset?\n",
    "print(f'Min date: {mg_users.reg_date.min()} \\nMax date: {mg_users.reg_date.max()}')"
   ]
  },
  {
   "cell_type": "markdown",
   "metadata": {},
   "source": [
    "The data includes user info, their plan, plan start and end date\n",
    "* Missing values in 'churn_date' column. These are clients that are still with the same service.\n",
    "* 'reg_date' should be datetype\n",
    "* looks like the data is for the year 2018"
   ]
  },
  {
   "cell_type": "markdown",
   "metadata": {},
   "source": [
    "### Preprocess data"
   ]
  },
  {
   "cell_type": "code",
   "execution_count": 329,
   "metadata": {},
   "outputs": [
    {
     "name": "stdout",
     "output_type": "stream",
     "text": [
      "<class 'pandas.core.frame.DataFrame'>\n",
      "RangeIndex: 500 entries, 0 to 499\n",
      "Data columns (total 8 columns):\n",
      " #   Column      Non-Null Count  Dtype         \n",
      "---  ------      --------------  -----         \n",
      " 0   user_id     500 non-null    int64         \n",
      " 1   first_name  500 non-null    object        \n",
      " 2   last_name   500 non-null    object        \n",
      " 3   age         500 non-null    int64         \n",
      " 4   city        500 non-null    object        \n",
      " 5   reg_date    500 non-null    datetime64[ns]\n",
      " 6   plan        500 non-null    object        \n",
      " 7   churn_date  34 non-null     datetime64[ns]\n",
      "dtypes: datetime64[ns](2), int64(2), object(4)\n",
      "memory usage: 31.4+ KB\n"
     ]
    }
   ],
   "source": [
    "## convert 'reg_date' and 'churn_date' columns to type datetime \n",
    "mg_users['reg_date'] = pd.to_datetime(mg_users['reg_date'], format='%Y-%m-%d')\n",
    "mg_users['churn_date'] = pd.to_datetime(mg_users['churn_date'], format='%Y-%m-%d')\n",
    "mg_users.info()"
   ]
  },
  {
   "cell_type": "code",
   "execution_count": 330,
   "metadata": {},
   "outputs": [
    {
     "data": {
      "text/plain": [
       "0"
      ]
     },
     "execution_count": 330,
     "metadata": {},
     "output_type": "execute_result"
    }
   ],
   "source": [
    "# replace the null churn with the max date of december\n",
    "mg_users.fillna(mg_users.reg_date.max(), inplace =True)\n",
    "mg_users.isna().sum().sum()"
   ]
  },
  {
   "cell_type": "code",
   "execution_count": 331,
   "metadata": {},
   "outputs": [
    {
     "data": {
      "text/html": [
       "<div>\n",
       "<style scoped>\n",
       "    .dataframe tbody tr th:only-of-type {\n",
       "        vertical-align: middle;\n",
       "    }\n",
       "\n",
       "    .dataframe tbody tr th {\n",
       "        vertical-align: top;\n",
       "    }\n",
       "\n",
       "    .dataframe thead th {\n",
       "        text-align: right;\n",
       "    }\n",
       "</style>\n",
       "<table border=\"1\" class=\"dataframe\">\n",
       "  <thead>\n",
       "    <tr style=\"text-align: right;\">\n",
       "      <th></th>\n",
       "      <th>user_id</th>\n",
       "      <th>first_name</th>\n",
       "      <th>last_name</th>\n",
       "      <th>age</th>\n",
       "      <th>city</th>\n",
       "      <th>reg_date</th>\n",
       "      <th>plan</th>\n",
       "      <th>churn_date</th>\n",
       "      <th>tenure</th>\n",
       "    </tr>\n",
       "  </thead>\n",
       "  <tbody>\n",
       "    <tr>\n",
       "      <th>115</th>\n",
       "      <td>1115</td>\n",
       "      <td>Yevette</td>\n",
       "      <td>Yang</td>\n",
       "      <td>21</td>\n",
       "      <td>El Paso, TX MSA</td>\n",
       "      <td>2018-11-19</td>\n",
       "      <td>surf</td>\n",
       "      <td>2018-12-31</td>\n",
       "      <td>1</td>\n",
       "    </tr>\n",
       "  </tbody>\n",
       "</table>\n",
       "</div>"
      ],
      "text/plain": [
       "     user_id first_name last_name  age             city   reg_date  plan  \\\n",
       "115     1115    Yevette      Yang   21  El Paso, TX MSA 2018-11-19  surf   \n",
       "\n",
       "    churn_date  tenure  \n",
       "115 2018-12-31       1  "
      ]
     },
     "execution_count": 331,
     "metadata": {},
     "output_type": "execute_result"
    }
   ],
   "source": [
    "# tenure\n",
    "mg_users['tenure'] = mg_users['churn_date'].dt.month - mg_users['reg_date'].dt.month\n",
    "mg_users.sample()"
   ]
  },
  {
   "cell_type": "markdown",
   "metadata": {},
   "source": [
    "## Calls Dataset"
   ]
  },
  {
   "cell_type": "code",
   "execution_count": 332,
   "metadata": {},
   "outputs": [
    {
     "name": "stdout",
     "output_type": "stream",
     "text": [
      "<class 'pandas.core.frame.DataFrame'>\n",
      "RangeIndex: 137735 entries, 0 to 137734\n",
      "Data columns (total 4 columns):\n",
      " #   Column     Non-Null Count   Dtype  \n",
      "---  ------     --------------   -----  \n",
      " 0   id         137735 non-null  object \n",
      " 1   user_id    137735 non-null  int64  \n",
      " 2   call_date  137735 non-null  object \n",
      " 3   duration   137735 non-null  float64\n",
      "dtypes: float64(1), int64(1), object(2)\n",
      "memory usage: 4.2+ MB\n",
      "None\n"
     ]
    },
    {
     "data": {
      "text/html": [
       "<div>\n",
       "<style scoped>\n",
       "    .dataframe tbody tr th:only-of-type {\n",
       "        vertical-align: middle;\n",
       "    }\n",
       "\n",
       "    .dataframe tbody tr th {\n",
       "        vertical-align: top;\n",
       "    }\n",
       "\n",
       "    .dataframe thead th {\n",
       "        text-align: right;\n",
       "    }\n",
       "</style>\n",
       "<table border=\"1\" class=\"dataframe\">\n",
       "  <thead>\n",
       "    <tr style=\"text-align: right;\">\n",
       "      <th></th>\n",
       "      <th>id</th>\n",
       "      <th>user_id</th>\n",
       "      <th>call_date</th>\n",
       "      <th>duration</th>\n",
       "    </tr>\n",
       "  </thead>\n",
       "  <tbody>\n",
       "    <tr>\n",
       "      <th>23579</th>\n",
       "      <td>1087_36</td>\n",
       "      <td>1087</td>\n",
       "      <td>2018-11-27</td>\n",
       "      <td>14.88</td>\n",
       "    </tr>\n",
       "    <tr>\n",
       "      <th>50339</th>\n",
       "      <td>1181_721</td>\n",
       "      <td>1181</td>\n",
       "      <td>2018-05-05</td>\n",
       "      <td>9.23</td>\n",
       "    </tr>\n",
       "  </tbody>\n",
       "</table>\n",
       "</div>"
      ],
      "text/plain": [
       "             id  user_id   call_date  duration\n",
       "23579   1087_36     1087  2018-11-27     14.88\n",
       "50339  1181_721     1181  2018-05-05      9.23"
      ]
     },
     "metadata": {},
     "output_type": "display_data"
    },
    {
     "name": "stdout",
     "output_type": "stream",
     "text": [
      "Null: 0\n",
      "Duplicates: 0\n"
     ]
    }
   ],
   "source": [
    "explore_data(mg_calls)"
   ]
  },
  {
   "cell_type": "code",
   "execution_count": 333,
   "metadata": {},
   "outputs": [
    {
     "data": {
      "text/plain": [
       "481"
      ]
     },
     "execution_count": 333,
     "metadata": {},
     "output_type": "execute_result"
    }
   ],
   "source": [
    "# how many users made calls?\n",
    "mg_calls.user_id.nunique()"
   ]
  },
  {
   "cell_type": "markdown",
   "metadata": {},
   "source": [
    "mg_calls data consists of all the calls by all 500 members in this analysis.\n",
    "* Zero Null values.\n",
    "\n",
    "[ For calls, thh duration in seconds is rounded up for calculating charges by minutes (even if the call lasted just one second, it will be counted as one minute ]\n",
    "* new column: 'minutes_duration' to calculate revenue on calls  \n",
    "* 'call_date' needs to be formated to timestamp type."
   ]
  },
  {
   "cell_type": "markdown",
   "metadata": {},
   "source": [
    "### Preprocess Data"
   ]
  },
  {
   "cell_type": "code",
   "execution_count": 334,
   "metadata": {},
   "outputs": [],
   "source": [
    "mg_calls['minutes_duration'] = np.ceil(mg_calls['duration']).astype('int')"
   ]
  },
  {
   "cell_type": "code",
   "execution_count": 335,
   "metadata": {},
   "outputs": [
    {
     "name": "stdout",
     "output_type": "stream",
     "text": [
      "<class 'pandas.core.frame.DataFrame'>\n",
      "RangeIndex: 137735 entries, 0 to 137734\n",
      "Data columns (total 6 columns):\n",
      " #   Column            Non-Null Count   Dtype         \n",
      "---  ------            --------------   -----         \n",
      " 0   id                137735 non-null  object        \n",
      " 1   user_id           137735 non-null  int64         \n",
      " 2   call_date         137735 non-null  datetime64[ns]\n",
      " 3   duration          137735 non-null  float64       \n",
      " 4   minutes_duration  137735 non-null  int64         \n",
      " 5   month             137735 non-null  int64         \n",
      "dtypes: datetime64[ns](1), float64(1), int64(3), object(1)\n",
      "memory usage: 6.3+ MB\n"
     ]
    }
   ],
   "source": [
    "# formating the date column to timestamp datatype  \n",
    "mg_calls['call_date'] = pd.to_datetime(mg_calls['call_date'], format='%Y-%m-%d')\n",
    "\n",
    "# adding a month column for analyzing data by months of the year\n",
    "mg_calls['month'] = mg_calls['call_date'].dt.month\n",
    "mg_calls.info()"
   ]
  },
  {
   "cell_type": "code",
   "execution_count": 336,
   "metadata": {},
   "outputs": [
    {
     "data": {
      "text/html": [
       "<div>\n",
       "<style scoped>\n",
       "    .dataframe tbody tr th:only-of-type {\n",
       "        vertical-align: middle;\n",
       "    }\n",
       "\n",
       "    .dataframe tbody tr th {\n",
       "        vertical-align: top;\n",
       "    }\n",
       "\n",
       "    .dataframe thead th {\n",
       "        text-align: right;\n",
       "    }\n",
       "</style>\n",
       "<table border=\"1\" class=\"dataframe\">\n",
       "  <thead>\n",
       "    <tr style=\"text-align: right;\">\n",
       "      <th></th>\n",
       "      <th>id</th>\n",
       "      <th>user_id</th>\n",
       "      <th>call_date</th>\n",
       "      <th>duration</th>\n",
       "      <th>minutes_duration</th>\n",
       "      <th>month</th>\n",
       "    </tr>\n",
       "  </thead>\n",
       "  <tbody>\n",
       "    <tr>\n",
       "      <th>90349</th>\n",
       "      <td>1327_274</td>\n",
       "      <td>1327</td>\n",
       "      <td>2018-09-06</td>\n",
       "      <td>24.57</td>\n",
       "      <td>25</td>\n",
       "      <td>9</td>\n",
       "    </tr>\n",
       "  </tbody>\n",
       "</table>\n",
       "</div>"
      ],
      "text/plain": [
       "             id  user_id  call_date  duration  minutes_duration  month\n",
       "90349  1327_274     1327 2018-09-06     24.57                25      9"
      ]
     },
     "execution_count": 336,
     "metadata": {},
     "output_type": "execute_result"
    }
   ],
   "source": [
    "mg_calls.sample()"
   ]
  },
  {
   "cell_type": "markdown",
   "metadata": {},
   "source": [
    "## Messages Dataset"
   ]
  },
  {
   "cell_type": "code",
   "execution_count": 337,
   "metadata": {},
   "outputs": [
    {
     "name": "stdout",
     "output_type": "stream",
     "text": [
      "<class 'pandas.core.frame.DataFrame'>\n",
      "RangeIndex: 76051 entries, 0 to 76050\n",
      "Data columns (total 3 columns):\n",
      " #   Column        Non-Null Count  Dtype \n",
      "---  ------        --------------  ----- \n",
      " 0   id            76051 non-null  object\n",
      " 1   user_id       76051 non-null  int64 \n",
      " 2   message_date  76051 non-null  object\n",
      "dtypes: int64(1), object(2)\n",
      "memory usage: 1.7+ MB\n",
      "None\n"
     ]
    },
    {
     "data": {
      "text/html": [
       "<div>\n",
       "<style scoped>\n",
       "    .dataframe tbody tr th:only-of-type {\n",
       "        vertical-align: middle;\n",
       "    }\n",
       "\n",
       "    .dataframe tbody tr th {\n",
       "        vertical-align: top;\n",
       "    }\n",
       "\n",
       "    .dataframe thead th {\n",
       "        text-align: right;\n",
       "    }\n",
       "</style>\n",
       "<table border=\"1\" class=\"dataframe\">\n",
       "  <thead>\n",
       "    <tr style=\"text-align: right;\">\n",
       "      <th></th>\n",
       "      <th>id</th>\n",
       "      <th>user_id</th>\n",
       "      <th>message_date</th>\n",
       "    </tr>\n",
       "  </thead>\n",
       "  <tbody>\n",
       "    <tr>\n",
       "      <th>74017</th>\n",
       "      <td>1475_151</td>\n",
       "      <td>1475</td>\n",
       "      <td>2018-11-29</td>\n",
       "    </tr>\n",
       "    <tr>\n",
       "      <th>64310</th>\n",
       "      <td>1409_12</td>\n",
       "      <td>1409</td>\n",
       "      <td>2018-11-02</td>\n",
       "    </tr>\n",
       "  </tbody>\n",
       "</table>\n",
       "</div>"
      ],
      "text/plain": [
       "             id  user_id message_date\n",
       "74017  1475_151     1475   2018-11-29\n",
       "64310   1409_12     1409   2018-11-02"
      ]
     },
     "metadata": {},
     "output_type": "display_data"
    },
    {
     "name": "stdout",
     "output_type": "stream",
     "text": [
      "Null: 0\n",
      "Duplicates: 0\n"
     ]
    }
   ],
   "source": [
    "explore_data(mg_messages)"
   ]
  },
  {
   "cell_type": "code",
   "execution_count": 338,
   "metadata": {},
   "outputs": [
    {
     "data": {
      "text/plain": [
       "402"
      ]
     },
     "execution_count": 338,
     "metadata": {},
     "output_type": "execute_result"
    }
   ],
   "source": [
    "# count of users that used messages\n",
    "mg_messages.user_id.nunique()"
   ]
  },
  {
   "cell_type": "markdown",
   "metadata": {},
   "source": [
    "messages data included all the instance of messages sent by all 500 users\n",
    "* The types are appropriate \n",
    "* message_date should be formated to timestamp type. \n",
    "* month column for analysis "
   ]
  },
  {
   "cell_type": "markdown",
   "metadata": {},
   "source": [
    "### Preprocess Data"
   ]
  },
  {
   "cell_type": "code",
   "execution_count": 339,
   "metadata": {},
   "outputs": [
    {
     "data": {
      "text/html": [
       "<div>\n",
       "<style scoped>\n",
       "    .dataframe tbody tr th:only-of-type {\n",
       "        vertical-align: middle;\n",
       "    }\n",
       "\n",
       "    .dataframe tbody tr th {\n",
       "        vertical-align: top;\n",
       "    }\n",
       "\n",
       "    .dataframe thead th {\n",
       "        text-align: right;\n",
       "    }\n",
       "</style>\n",
       "<table border=\"1\" class=\"dataframe\">\n",
       "  <thead>\n",
       "    <tr style=\"text-align: right;\">\n",
       "      <th></th>\n",
       "      <th>id</th>\n",
       "      <th>user_id</th>\n",
       "      <th>message_date</th>\n",
       "      <th>month</th>\n",
       "    </tr>\n",
       "  </thead>\n",
       "  <tbody>\n",
       "    <tr>\n",
       "      <th>639</th>\n",
       "      <td>1006_480</td>\n",
       "      <td>1006</td>\n",
       "      <td>2018-12-02</td>\n",
       "      <td>12</td>\n",
       "    </tr>\n",
       "    <tr>\n",
       "      <th>20229</th>\n",
       "      <td>1128_198</td>\n",
       "      <td>1128</td>\n",
       "      <td>2018-06-29</td>\n",
       "      <td>6</td>\n",
       "    </tr>\n",
       "    <tr>\n",
       "      <th>46541</th>\n",
       "      <td>1316_452</td>\n",
       "      <td>1316</td>\n",
       "      <td>2018-12-14</td>\n",
       "      <td>12</td>\n",
       "    </tr>\n",
       "    <tr>\n",
       "      <th>62176</th>\n",
       "      <td>1391_134</td>\n",
       "      <td>1391</td>\n",
       "      <td>2018-12-17</td>\n",
       "      <td>12</td>\n",
       "    </tr>\n",
       "    <tr>\n",
       "      <th>10907</th>\n",
       "      <td>1077_178</td>\n",
       "      <td>1077</td>\n",
       "      <td>2018-11-02</td>\n",
       "      <td>11</td>\n",
       "    </tr>\n",
       "  </tbody>\n",
       "</table>\n",
       "</div>"
      ],
      "text/plain": [
       "             id  user_id message_date  month\n",
       "639    1006_480     1006   2018-12-02     12\n",
       "20229  1128_198     1128   2018-06-29      6\n",
       "46541  1316_452     1316   2018-12-14     12\n",
       "62176  1391_134     1391   2018-12-17     12\n",
       "10907  1077_178     1077   2018-11-02     11"
      ]
     },
     "execution_count": 339,
     "metadata": {},
     "output_type": "execute_result"
    }
   ],
   "source": [
    "## formating the date column to timestamp datatype \n",
    "mg_messages['message_date'] = pd.to_datetime(mg_messages['message_date'], format='%Y-%m-%d')\n",
    "\n",
    "# month column for analyzing data by months of the year\n",
    "mg_messages['month'] = mg_messages['message_date'].dt.month\n",
    "mg_messages.sample(5)"
   ]
  },
  {
   "cell_type": "markdown",
   "metadata": {},
   "source": [
    "## Internet Dataset"
   ]
  },
  {
   "cell_type": "code",
   "execution_count": 340,
   "metadata": {
    "scrolled": false
   },
   "outputs": [
    {
     "name": "stdout",
     "output_type": "stream",
     "text": [
      "<class 'pandas.core.frame.DataFrame'>\n",
      "RangeIndex: 104825 entries, 0 to 104824\n",
      "Data columns (total 4 columns):\n",
      " #   Column        Non-Null Count   Dtype  \n",
      "---  ------        --------------   -----  \n",
      " 0   id            104825 non-null  object \n",
      " 1   user_id       104825 non-null  int64  \n",
      " 2   session_date  104825 non-null  object \n",
      " 3   mb_used       104825 non-null  float64\n",
      "dtypes: float64(1), int64(1), object(2)\n",
      "memory usage: 3.2+ MB\n",
      "None\n"
     ]
    },
    {
     "data": {
      "text/html": [
       "<div>\n",
       "<style scoped>\n",
       "    .dataframe tbody tr th:only-of-type {\n",
       "        vertical-align: middle;\n",
       "    }\n",
       "\n",
       "    .dataframe tbody tr th {\n",
       "        vertical-align: top;\n",
       "    }\n",
       "\n",
       "    .dataframe thead th {\n",
       "        text-align: right;\n",
       "    }\n",
       "</style>\n",
       "<table border=\"1\" class=\"dataframe\">\n",
       "  <thead>\n",
       "    <tr style=\"text-align: right;\">\n",
       "      <th></th>\n",
       "      <th>id</th>\n",
       "      <th>user_id</th>\n",
       "      <th>session_date</th>\n",
       "      <th>mb_used</th>\n",
       "    </tr>\n",
       "  </thead>\n",
       "  <tbody>\n",
       "    <tr>\n",
       "      <th>86326</th>\n",
       "      <td>1400_463</td>\n",
       "      <td>1400</td>\n",
       "      <td>2018-07-25</td>\n",
       "      <td>736.69</td>\n",
       "    </tr>\n",
       "    <tr>\n",
       "      <th>30525</th>\n",
       "      <td>1140_68</td>\n",
       "      <td>1140</td>\n",
       "      <td>2018-07-10</td>\n",
       "      <td>598.65</td>\n",
       "    </tr>\n",
       "  </tbody>\n",
       "</table>\n",
       "</div>"
      ],
      "text/plain": [
       "             id  user_id session_date  mb_used\n",
       "86326  1400_463     1400   2018-07-25   736.69\n",
       "30525   1140_68     1140   2018-07-10   598.65"
      ]
     },
     "metadata": {},
     "output_type": "display_data"
    },
    {
     "name": "stdout",
     "output_type": "stream",
     "text": [
      "Null: 0\n",
      "Duplicates: 0\n"
     ]
    }
   ],
   "source": [
    "explore_data(mg_internet)"
   ]
  },
  {
   "cell_type": "code",
   "execution_count": 341,
   "metadata": {},
   "outputs": [
    {
     "data": {
      "text/plain": [
       "489"
      ]
     },
     "execution_count": 341,
     "metadata": {},
     "output_type": "execute_result"
    }
   ],
   "source": [
    "# count of users that used internet\n",
    "mg_internet.user_id.nunique()"
   ]
  },
  {
   "cell_type": "markdown",
   "metadata": {},
   "source": [
    "the internet dataset consists of all the internet sessions of the 500 members\n",
    "* 'session_date' needs to be formated to timestamp\n",
    "\n",
    "[ Data Note: For web traffic, individual web sessions are not rounded up. Instead, the total for the month is rounded up. If someone uses 1025 megabytes this month, they will be charged for 2 gigabytes.]\n",
    "* 1 GB = 1024 MB "
   ]
  },
  {
   "cell_type": "markdown",
   "metadata": {},
   "source": [
    "### Preprocess data"
   ]
  },
  {
   "cell_type": "code",
   "execution_count": 342,
   "metadata": {},
   "outputs": [
    {
     "data": {
      "text/html": [
       "<div>\n",
       "<style scoped>\n",
       "    .dataframe tbody tr th:only-of-type {\n",
       "        vertical-align: middle;\n",
       "    }\n",
       "\n",
       "    .dataframe tbody tr th {\n",
       "        vertical-align: top;\n",
       "    }\n",
       "\n",
       "    .dataframe thead th {\n",
       "        text-align: right;\n",
       "    }\n",
       "</style>\n",
       "<table border=\"1\" class=\"dataframe\">\n",
       "  <thead>\n",
       "    <tr style=\"text-align: right;\">\n",
       "      <th></th>\n",
       "      <th>id</th>\n",
       "      <th>user_id</th>\n",
       "      <th>session_date</th>\n",
       "      <th>mb_used</th>\n",
       "      <th>month</th>\n",
       "    </tr>\n",
       "  </thead>\n",
       "  <tbody>\n",
       "    <tr>\n",
       "      <th>94397</th>\n",
       "      <td>1440_35</td>\n",
       "      <td>1440</td>\n",
       "      <td>2018-09-17</td>\n",
       "      <td>890.83</td>\n",
       "      <td>9</td>\n",
       "    </tr>\n",
       "    <tr>\n",
       "      <th>70983</th>\n",
       "      <td>1331_234</td>\n",
       "      <td>1331</td>\n",
       "      <td>2018-10-09</td>\n",
       "      <td>0.00</td>\n",
       "      <td>10</td>\n",
       "    </tr>\n",
       "    <tr>\n",
       "      <th>15354</th>\n",
       "      <td>1069_318</td>\n",
       "      <td>1069</td>\n",
       "      <td>2018-10-05</td>\n",
       "      <td>268.37</td>\n",
       "      <td>10</td>\n",
       "    </tr>\n",
       "    <tr>\n",
       "      <th>29363</th>\n",
       "      <td>1134_90</td>\n",
       "      <td>1134</td>\n",
       "      <td>2018-12-21</td>\n",
       "      <td>534.72</td>\n",
       "      <td>12</td>\n",
       "    </tr>\n",
       "    <tr>\n",
       "      <th>67812</th>\n",
       "      <td>1316_21</td>\n",
       "      <td>1316</td>\n",
       "      <td>2018-11-12</td>\n",
       "      <td>0.00</td>\n",
       "      <td>11</td>\n",
       "    </tr>\n",
       "  </tbody>\n",
       "</table>\n",
       "</div>"
      ],
      "text/plain": [
       "             id  user_id session_date  mb_used  month\n",
       "94397   1440_35     1440   2018-09-17   890.83      9\n",
       "70983  1331_234     1331   2018-10-09     0.00     10\n",
       "15354  1069_318     1069   2018-10-05   268.37     10\n",
       "29363   1134_90     1134   2018-12-21   534.72     12\n",
       "67812   1316_21     1316   2018-11-12     0.00     11"
      ]
     },
     "execution_count": 342,
     "metadata": {},
     "output_type": "execute_result"
    }
   ],
   "source": [
    "## formating the date column to timestamp datatype\n",
    "mg_internet['session_date'] = pd.to_datetime(mg_internet['session_date'], format='%Y-%m-%d')\n",
    "\n",
    "#  month column for analyzing data by months\n",
    "mg_internet['month'] = mg_internet['session_date'].dt.month\n",
    "mg_internet.sample(5)"
   ]
  },
  {
   "cell_type": "markdown",
   "metadata": {},
   "source": [
    "## Study plan conditions"
   ]
  },
  {
   "cell_type": "code",
   "execution_count": 343,
   "metadata": {},
   "outputs": [
    {
     "data": {
      "text/html": [
       "<div>\n",
       "<style scoped>\n",
       "    .dataframe tbody tr th:only-of-type {\n",
       "        vertical-align: middle;\n",
       "    }\n",
       "\n",
       "    .dataframe tbody tr th {\n",
       "        vertical-align: top;\n",
       "    }\n",
       "\n",
       "    .dataframe thead th {\n",
       "        text-align: right;\n",
       "    }\n",
       "</style>\n",
       "<table border=\"1\" class=\"dataframe\">\n",
       "  <thead>\n",
       "    <tr style=\"text-align: right;\">\n",
       "      <th></th>\n",
       "      <th>messages_included</th>\n",
       "      <th>mb_per_month_included</th>\n",
       "      <th>minutes_included</th>\n",
       "      <th>usd_monthly_pay</th>\n",
       "      <th>usd_per_gb</th>\n",
       "      <th>usd_per_message</th>\n",
       "      <th>usd_per_minute</th>\n",
       "      <th>plan_name</th>\n",
       "    </tr>\n",
       "  </thead>\n",
       "  <tbody>\n",
       "    <tr>\n",
       "      <th>0</th>\n",
       "      <td>50</td>\n",
       "      <td>15360</td>\n",
       "      <td>500</td>\n",
       "      <td>20</td>\n",
       "      <td>10</td>\n",
       "      <td>0.03</td>\n",
       "      <td>0.03</td>\n",
       "      <td>surf</td>\n",
       "    </tr>\n",
       "    <tr>\n",
       "      <th>1</th>\n",
       "      <td>1000</td>\n",
       "      <td>30720</td>\n",
       "      <td>3000</td>\n",
       "      <td>70</td>\n",
       "      <td>7</td>\n",
       "      <td>0.01</td>\n",
       "      <td>0.01</td>\n",
       "      <td>ultimate</td>\n",
       "    </tr>\n",
       "  </tbody>\n",
       "</table>\n",
       "</div>"
      ],
      "text/plain": [
       "   messages_included  mb_per_month_included  minutes_included  \\\n",
       "0                 50                  15360               500   \n",
       "1               1000                  30720              3000   \n",
       "\n",
       "   usd_monthly_pay  usd_per_gb  usd_per_message  usd_per_minute plan_name  \n",
       "0               20          10             0.03            0.03      surf  \n",
       "1               70           7             0.01            0.01  ultimate  "
      ]
     },
     "metadata": {},
     "output_type": "display_data"
    }
   ],
   "source": [
    "# plan conditions\n",
    "display(mg_plans)"
   ]
  },
  {
   "cell_type": "markdown",
   "metadata": {},
   "source": [
    "* count of messages \n",
    "* sum of MB (1 GB = 1024 megabytes)\n",
    "* sum of minutes"
   ]
  },
  {
   "cell_type": "markdown",
   "metadata": {},
   "source": [
    "## Aggregate and Merge Data Per User Per Month"
   ]
  },
  {
   "cell_type": "code",
   "execution_count": 344,
   "metadata": {},
   "outputs": [
    {
     "data": {
      "text/plain": [
       "user_id  month\n",
       "1000     12       124\n",
       "1001     8        182\n",
       "         9        315\n",
       "         10       393\n",
       "         11       426\n",
       "                 ... \n",
       "1498     12       339\n",
       "1499     9        346\n",
       "         10       385\n",
       "         11       308\n",
       "         12       496\n",
       "Name: minutes_duration, Length: 2258, dtype: int64"
      ]
     },
     "execution_count": 344,
     "metadata": {},
     "output_type": "execute_result"
    }
   ],
   "source": [
    "# Sum of minutes per user per month. \n",
    "minutes_per_user = mg_calls.groupby(['user_id', 'month'])['minutes_duration'].sum()\n",
    "minutes_per_user"
   ]
  },
  {
   "cell_type": "code",
   "execution_count": 345,
   "metadata": {},
   "outputs": [
    {
     "data": {
      "text/plain": [
       "user_id  month\n",
       "1000     12       11\n",
       "1001     8        30\n",
       "         9        44\n",
       "         10       53\n",
       "         11       36\n",
       "                  ..\n",
       "1496     9        21\n",
       "         10       18\n",
       "         11       13\n",
       "         12       11\n",
       "1497     12       50\n",
       "Name: id, Length: 1806, dtype: int64"
      ]
     },
     "execution_count": 345,
     "metadata": {},
     "output_type": "execute_result"
    }
   ],
   "source": [
    "# count of messages by each user per month.\n",
    "messages_per_user = mg_messages.groupby(['user_id', 'month'])['id'].count()\n",
    "messages_per_user"
   ]
  },
  {
   "cell_type": "code",
   "execution_count": 346,
   "metadata": {},
   "outputs": [
    {
     "data": {
      "text/plain": [
       "user_id  month\n",
       "1000     12        1902.0\n",
       "1001     8         6920.0\n",
       "         9        13315.0\n",
       "         10       22331.0\n",
       "         11       18505.0\n",
       "                   ...   \n",
       "1498     12       23138.0\n",
       "1499     9        12985.0\n",
       "         10       19493.0\n",
       "         11       16814.0\n",
       "         12       22060.0\n",
       "Name: mb_used, Length: 2277, dtype: float64"
      ]
     },
     "execution_count": 346,
     "metadata": {},
     "output_type": "execute_result"
    }
   ],
   "source": [
    "# volume of internet traffic used by each user per month. \n",
    "internet_per_user = np.ceil(mg_internet.groupby(['user_id', 'month'])['mb_used'].sum())\n",
    "internet_per_user"
   ]
  },
  {
   "cell_type": "code",
   "execution_count": 347,
   "metadata": {},
   "outputs": [
    {
     "data": {
      "text/html": [
       "<div>\n",
       "<style scoped>\n",
       "    .dataframe tbody tr th:only-of-type {\n",
       "        vertical-align: middle;\n",
       "    }\n",
       "\n",
       "    .dataframe tbody tr th {\n",
       "        vertical-align: top;\n",
       "    }\n",
       "\n",
       "    .dataframe thead th {\n",
       "        text-align: right;\n",
       "    }\n",
       "</style>\n",
       "<table border=\"1\" class=\"dataframe\">\n",
       "  <thead>\n",
       "    <tr style=\"text-align: right;\">\n",
       "      <th></th>\n",
       "      <th>user_id</th>\n",
       "      <th>month</th>\n",
       "      <th>call_minutes</th>\n",
       "      <th>messages</th>\n",
       "      <th>mb_used</th>\n",
       "    </tr>\n",
       "  </thead>\n",
       "  <tbody>\n",
       "    <tr>\n",
       "      <th>0</th>\n",
       "      <td>1000</td>\n",
       "      <td>12</td>\n",
       "      <td>124.0</td>\n",
       "      <td>11.0</td>\n",
       "      <td>1902.0</td>\n",
       "    </tr>\n",
       "    <tr>\n",
       "      <th>1</th>\n",
       "      <td>1001</td>\n",
       "      <td>8</td>\n",
       "      <td>182.0</td>\n",
       "      <td>30.0</td>\n",
       "      <td>6920.0</td>\n",
       "    </tr>\n",
       "    <tr>\n",
       "      <th>2</th>\n",
       "      <td>1001</td>\n",
       "      <td>9</td>\n",
       "      <td>315.0</td>\n",
       "      <td>44.0</td>\n",
       "      <td>13315.0</td>\n",
       "    </tr>\n",
       "    <tr>\n",
       "      <th>3</th>\n",
       "      <td>1001</td>\n",
       "      <td>10</td>\n",
       "      <td>393.0</td>\n",
       "      <td>53.0</td>\n",
       "      <td>22331.0</td>\n",
       "    </tr>\n",
       "    <tr>\n",
       "      <th>4</th>\n",
       "      <td>1001</td>\n",
       "      <td>11</td>\n",
       "      <td>426.0</td>\n",
       "      <td>36.0</td>\n",
       "      <td>18505.0</td>\n",
       "    </tr>\n",
       "    <tr>\n",
       "      <th>...</th>\n",
       "      <td>...</td>\n",
       "      <td>...</td>\n",
       "      <td>...</td>\n",
       "      <td>...</td>\n",
       "      <td>...</td>\n",
       "    </tr>\n",
       "    <tr>\n",
       "      <th>2288</th>\n",
       "      <td>1498</td>\n",
       "      <td>12</td>\n",
       "      <td>339.0</td>\n",
       "      <td>NaN</td>\n",
       "      <td>23138.0</td>\n",
       "    </tr>\n",
       "    <tr>\n",
       "      <th>2289</th>\n",
       "      <td>1499</td>\n",
       "      <td>9</td>\n",
       "      <td>346.0</td>\n",
       "      <td>NaN</td>\n",
       "      <td>12985.0</td>\n",
       "    </tr>\n",
       "    <tr>\n",
       "      <th>2290</th>\n",
       "      <td>1499</td>\n",
       "      <td>10</td>\n",
       "      <td>385.0</td>\n",
       "      <td>NaN</td>\n",
       "      <td>19493.0</td>\n",
       "    </tr>\n",
       "    <tr>\n",
       "      <th>2291</th>\n",
       "      <td>1499</td>\n",
       "      <td>11</td>\n",
       "      <td>308.0</td>\n",
       "      <td>NaN</td>\n",
       "      <td>16814.0</td>\n",
       "    </tr>\n",
       "    <tr>\n",
       "      <th>2292</th>\n",
       "      <td>1499</td>\n",
       "      <td>12</td>\n",
       "      <td>496.0</td>\n",
       "      <td>NaN</td>\n",
       "      <td>22060.0</td>\n",
       "    </tr>\n",
       "  </tbody>\n",
       "</table>\n",
       "<p>2293 rows × 5 columns</p>\n",
       "</div>"
      ],
      "text/plain": [
       "      user_id  month  call_minutes  messages  mb_used\n",
       "0        1000     12         124.0      11.0   1902.0\n",
       "1        1001      8         182.0      30.0   6920.0\n",
       "2        1001      9         315.0      44.0  13315.0\n",
       "3        1001     10         393.0      53.0  22331.0\n",
       "4        1001     11         426.0      36.0  18505.0\n",
       "...       ...    ...           ...       ...      ...\n",
       "2288     1498     12         339.0       NaN  23138.0\n",
       "2289     1499      9         346.0       NaN  12985.0\n",
       "2290     1499     10         385.0       NaN  19493.0\n",
       "2291     1499     11         308.0       NaN  16814.0\n",
       "2292     1499     12         496.0       NaN  22060.0\n",
       "\n",
       "[2293 rows x 5 columns]"
      ]
     },
     "execution_count": 347,
     "metadata": {},
     "output_type": "execute_result"
    }
   ],
   "source": [
    "# Merge the data for calls, minutes, messages, internet based on user_id and month\n",
    "user_plan_usage = pd.concat([minutes_per_user, messages_per_user, internet_per_user], axis= 'columns').reset_index()\n",
    "user_plan_usage.columns = ['user_id', 'month', 'call_minutes', 'messages','mb_used']\n",
    "user_plan_usage"
   ]
  },
  {
   "cell_type": "code",
   "execution_count": 348,
   "metadata": {},
   "outputs": [],
   "source": [
    "# fill null with 0\n",
    "user_plan_usage.fillna(0, inplace=True)"
   ]
  },
  {
   "cell_type": "code",
   "execution_count": 349,
   "metadata": {},
   "outputs": [
    {
     "data": {
      "text/plain": [
       "490"
      ]
     },
     "execution_count": 349,
     "metadata": {},
     "output_type": "execute_result"
    }
   ],
   "source": [
    "user_plan_usage.user_id.nunique()"
   ]
  },
  {
   "cell_type": "markdown",
   "metadata": {},
   "source": [
    "10 clients did not use the included services. Have they terminated their plan?"
   ]
  },
  {
   "cell_type": "code",
   "execution_count": 350,
   "metadata": {},
   "outputs": [
    {
     "data": {
      "text/html": [
       "<div>\n",
       "<style scoped>\n",
       "    .dataframe tbody tr th:only-of-type {\n",
       "        vertical-align: middle;\n",
       "    }\n",
       "\n",
       "    .dataframe tbody tr th {\n",
       "        vertical-align: top;\n",
       "    }\n",
       "\n",
       "    .dataframe thead th {\n",
       "        text-align: right;\n",
       "    }\n",
       "</style>\n",
       "<table border=\"1\" class=\"dataframe\">\n",
       "  <thead>\n",
       "    <tr style=\"text-align: right;\">\n",
       "      <th></th>\n",
       "      <th>user_id</th>\n",
       "      <th>first_name</th>\n",
       "      <th>last_name</th>\n",
       "      <th>age</th>\n",
       "      <th>city</th>\n",
       "      <th>reg_date</th>\n",
       "      <th>plan</th>\n",
       "      <th>churn_date</th>\n",
       "      <th>tenure</th>\n",
       "    </tr>\n",
       "  </thead>\n",
       "  <tbody>\n",
       "    <tr>\n",
       "      <th>25</th>\n",
       "      <td>1025</td>\n",
       "      <td>Jess</td>\n",
       "      <td>Wilkinson</td>\n",
       "      <td>64</td>\n",
       "      <td>Atlanta-Sandy Springs-Roswell, GA MSA</td>\n",
       "      <td>2018-10-28</td>\n",
       "      <td>ultimate</td>\n",
       "      <td>2018-12-31</td>\n",
       "      <td>2</td>\n",
       "    </tr>\n",
       "    <tr>\n",
       "      <th>129</th>\n",
       "      <td>1129</td>\n",
       "      <td>Marin</td>\n",
       "      <td>Bolton</td>\n",
       "      <td>70</td>\n",
       "      <td>Baton Rouge, LA MSA</td>\n",
       "      <td>2018-11-10</td>\n",
       "      <td>surf</td>\n",
       "      <td>2018-12-27</td>\n",
       "      <td>1</td>\n",
       "    </tr>\n",
       "    <tr>\n",
       "      <th>143</th>\n",
       "      <td>1143</td>\n",
       "      <td>Lorina</td>\n",
       "      <td>Stevens</td>\n",
       "      <td>69</td>\n",
       "      <td>Cincinnati, OH-KY-IN MSA</td>\n",
       "      <td>2018-10-26</td>\n",
       "      <td>surf</td>\n",
       "      <td>2018-12-31</td>\n",
       "      <td>2</td>\n",
       "    </tr>\n",
       "    <tr>\n",
       "      <th>269</th>\n",
       "      <td>1269</td>\n",
       "      <td>Irving</td>\n",
       "      <td>Thompson</td>\n",
       "      <td>39</td>\n",
       "      <td>Dallas-Fort Worth-Arlington, TX MSA</td>\n",
       "      <td>2018-09-13</td>\n",
       "      <td>ultimate</td>\n",
       "      <td>2018-12-15</td>\n",
       "      <td>3</td>\n",
       "    </tr>\n",
       "    <tr>\n",
       "      <th>275</th>\n",
       "      <td>1275</td>\n",
       "      <td>Elvie</td>\n",
       "      <td>Velazquez</td>\n",
       "      <td>33</td>\n",
       "      <td>New York-Newark-Jersey City, NY-NJ-PA MSA</td>\n",
       "      <td>2018-11-29</td>\n",
       "      <td>ultimate</td>\n",
       "      <td>2018-12-31</td>\n",
       "      <td>1</td>\n",
       "    </tr>\n",
       "    <tr>\n",
       "      <th>307</th>\n",
       "      <td>1307</td>\n",
       "      <td>Kristopher</td>\n",
       "      <td>Lang</td>\n",
       "      <td>28</td>\n",
       "      <td>Boston-Cambridge-Newton, MA-NH MSA</td>\n",
       "      <td>2018-12-31</td>\n",
       "      <td>surf</td>\n",
       "      <td>2018-12-31</td>\n",
       "      <td>0</td>\n",
       "    </tr>\n",
       "    <tr>\n",
       "      <th>319</th>\n",
       "      <td>1319</td>\n",
       "      <td>Eliseo</td>\n",
       "      <td>Carson</td>\n",
       "      <td>21</td>\n",
       "      <td>Colorado Springs, CO MSA</td>\n",
       "      <td>2018-06-17</td>\n",
       "      <td>surf</td>\n",
       "      <td>2018-12-31</td>\n",
       "      <td>6</td>\n",
       "    </tr>\n",
       "    <tr>\n",
       "      <th>378</th>\n",
       "      <td>1378</td>\n",
       "      <td>Mckinley</td>\n",
       "      <td>Clayton</td>\n",
       "      <td>22</td>\n",
       "      <td>Denver-Aurora-Lakewood, CO MSA</td>\n",
       "      <td>2018-12-17</td>\n",
       "      <td>surf</td>\n",
       "      <td>2018-12-31</td>\n",
       "      <td>0</td>\n",
       "    </tr>\n",
       "    <tr>\n",
       "      <th>463</th>\n",
       "      <td>1463</td>\n",
       "      <td>Dinorah</td>\n",
       "      <td>Simmons</td>\n",
       "      <td>30</td>\n",
       "      <td>Atlanta-Sandy Springs-Roswell, GA MSA</td>\n",
       "      <td>2018-11-27</td>\n",
       "      <td>ultimate</td>\n",
       "      <td>2018-12-31</td>\n",
       "      <td>1</td>\n",
       "    </tr>\n",
       "    <tr>\n",
       "      <th>473</th>\n",
       "      <td>1473</td>\n",
       "      <td>Kirk</td>\n",
       "      <td>Velez</td>\n",
       "      <td>61</td>\n",
       "      <td>Louisville/Jefferson County, KY-IN MSA</td>\n",
       "      <td>2018-12-31</td>\n",
       "      <td>surf</td>\n",
       "      <td>2018-12-31</td>\n",
       "      <td>0</td>\n",
       "    </tr>\n",
       "  </tbody>\n",
       "</table>\n",
       "</div>"
      ],
      "text/plain": [
       "     user_id  first_name  last_name  age  \\\n",
       "25      1025        Jess  Wilkinson   64   \n",
       "129     1129       Marin     Bolton   70   \n",
       "143     1143      Lorina    Stevens   69   \n",
       "269     1269      Irving   Thompson   39   \n",
       "275     1275       Elvie  Velazquez   33   \n",
       "307     1307  Kristopher       Lang   28   \n",
       "319     1319      Eliseo     Carson   21   \n",
       "378     1378    Mckinley    Clayton   22   \n",
       "463     1463     Dinorah    Simmons   30   \n",
       "473     1473        Kirk      Velez   61   \n",
       "\n",
       "                                          city   reg_date      plan  \\\n",
       "25       Atlanta-Sandy Springs-Roswell, GA MSA 2018-10-28  ultimate   \n",
       "129                        Baton Rouge, LA MSA 2018-11-10      surf   \n",
       "143                   Cincinnati, OH-KY-IN MSA 2018-10-26      surf   \n",
       "269        Dallas-Fort Worth-Arlington, TX MSA 2018-09-13  ultimate   \n",
       "275  New York-Newark-Jersey City, NY-NJ-PA MSA 2018-11-29  ultimate   \n",
       "307         Boston-Cambridge-Newton, MA-NH MSA 2018-12-31      surf   \n",
       "319                   Colorado Springs, CO MSA 2018-06-17      surf   \n",
       "378             Denver-Aurora-Lakewood, CO MSA 2018-12-17      surf   \n",
       "463      Atlanta-Sandy Springs-Roswell, GA MSA 2018-11-27  ultimate   \n",
       "473     Louisville/Jefferson County, KY-IN MSA 2018-12-31      surf   \n",
       "\n",
       "    churn_date  tenure  \n",
       "25  2018-12-31       2  \n",
       "129 2018-12-27       1  \n",
       "143 2018-12-31       2  \n",
       "269 2018-12-15       3  \n",
       "275 2018-12-31       1  \n",
       "307 2018-12-31       0  \n",
       "319 2018-12-31       6  \n",
       "378 2018-12-31       0  \n",
       "463 2018-12-31       1  \n",
       "473 2018-12-31       0  "
      ]
     },
     "execution_count": 350,
     "metadata": {},
     "output_type": "execute_result"
    }
   ],
   "source": [
    "# lookign at the users data set of these 10 clients\n",
    "ten_clients = mg_users[~mg_users['user_id'].isin(user_plan_usage.user_id.tolist())]\n",
    "ten_clients"
   ]
  },
  {
   "cell_type": "markdown",
   "metadata": {},
   "source": [
    "* looks like all of them reamined with the company from their start to the end of decemeber, but they did not use their services. \n",
    "* leaving these outliers out of the analysis. "
   ]
  },
  {
   "cell_type": "code",
   "execution_count": 351,
   "metadata": {},
   "outputs": [
    {
     "data": {
      "text/html": [
       "<div>\n",
       "<style scoped>\n",
       "    .dataframe tbody tr th:only-of-type {\n",
       "        vertical-align: middle;\n",
       "    }\n",
       "\n",
       "    .dataframe tbody tr th {\n",
       "        vertical-align: top;\n",
       "    }\n",
       "\n",
       "    .dataframe thead th {\n",
       "        text-align: right;\n",
       "    }\n",
       "</style>\n",
       "<table border=\"1\" class=\"dataframe\">\n",
       "  <thead>\n",
       "    <tr style=\"text-align: right;\">\n",
       "      <th></th>\n",
       "      <th>user_id</th>\n",
       "      <th>month</th>\n",
       "      <th>call_minutes</th>\n",
       "      <th>messages</th>\n",
       "      <th>mb_used</th>\n",
       "      <th>first_name</th>\n",
       "      <th>last_name</th>\n",
       "      <th>age</th>\n",
       "      <th>city</th>\n",
       "      <th>reg_date</th>\n",
       "      <th>...</th>\n",
       "      <th>churn_date</th>\n",
       "      <th>tenure</th>\n",
       "      <th>messages_included</th>\n",
       "      <th>mb_per_month_included</th>\n",
       "      <th>minutes_included</th>\n",
       "      <th>usd_monthly_pay</th>\n",
       "      <th>usd_per_gb</th>\n",
       "      <th>usd_per_message</th>\n",
       "      <th>usd_per_minute</th>\n",
       "      <th>plan_name</th>\n",
       "    </tr>\n",
       "  </thead>\n",
       "  <tbody>\n",
       "    <tr>\n",
       "      <th>2253</th>\n",
       "      <td>1491</td>\n",
       "      <td>7</td>\n",
       "      <td>463.0</td>\n",
       "      <td>64.0</td>\n",
       "      <td>7834.0</td>\n",
       "      <td>Terina</td>\n",
       "      <td>Jensen</td>\n",
       "      <td>22</td>\n",
       "      <td>Grand Rapids-Kentwood, MI MSA</td>\n",
       "      <td>2018-04-27</td>\n",
       "      <td>...</td>\n",
       "      <td>2018-09-18</td>\n",
       "      <td>5</td>\n",
       "      <td>50</td>\n",
       "      <td>15360</td>\n",
       "      <td>500</td>\n",
       "      <td>20</td>\n",
       "      <td>10</td>\n",
       "      <td>0.03</td>\n",
       "      <td>0.03</td>\n",
       "      <td>surf</td>\n",
       "    </tr>\n",
       "  </tbody>\n",
       "</table>\n",
       "<p>1 rows × 21 columns</p>\n",
       "</div>"
      ],
      "text/plain": [
       "      user_id  month  call_minutes  messages  mb_used first_name last_name  \\\n",
       "2253     1491      7         463.0      64.0   7834.0     Terina    Jensen   \n",
       "\n",
       "      age                           city   reg_date  ... churn_date tenure  \\\n",
       "2253   22  Grand Rapids-Kentwood, MI MSA 2018-04-27  ... 2018-09-18      5   \n",
       "\n",
       "      messages_included  mb_per_month_included  minutes_included  \\\n",
       "2253                 50                  15360               500   \n",
       "\n",
       "      usd_monthly_pay  usd_per_gb  usd_per_message  usd_per_minute  plan_name  \n",
       "2253               20          10             0.03            0.03       surf  \n",
       "\n",
       "[1 rows x 21 columns]"
      ]
     },
     "execution_count": 351,
     "metadata": {},
     "output_type": "execute_result"
    }
   ],
   "source": [
    "# merrge on right to keep all users \n",
    "user_data = (user_plan_usage\n",
    " .merge(mg_users, on='user_id')\n",
    " .merge(mg_plans, left_on='plan', right_on='plan_name'))\n",
    "\n",
    "user_data.sample()"
   ]
  },
  {
   "cell_type": "code",
   "execution_count": 352,
   "metadata": {},
   "outputs": [
    {
     "data": {
      "text/plain": [
       "490"
      ]
     },
     "execution_count": 352,
     "metadata": {},
     "output_type": "execute_result"
    }
   ],
   "source": [
    "user_data.user_id.nunique()"
   ]
  },
  {
   "cell_type": "markdown",
   "metadata": {},
   "source": [
    "# Calculate the monthly revenue for each user\n"
   ]
  },
  {
   "cell_type": "code",
   "execution_count": 353,
   "metadata": {},
   "outputs": [],
   "source": [
    "def calculate_revenue(user_data):\n",
    "    monthly_pay = user_data['usd_monthly_pay']\n",
    "    extra_messages, extra_minutes, extra_mb = 0, 0, 0\n",
    "    if user_data['messages'] > user_data['messages_included']:\n",
    "        extra_messages = user_data['messages'] - user_data['messages_included'] \n",
    "    if user_data['call_minutes'] > user_data['minutes_included']:\n",
    "        extra_minutes = user_data['call_minutes'] - user_data['minutes_included'] \n",
    "    if user_data['mb_used'] > user_data['mb_per_month_included']: \n",
    "        extra_mb = user_data['mb_used'] - user_data['mb_per_month_included'] \n",
    "    \n",
    "    extra_messages_rev = extra_messages * user_data['usd_per_message']\n",
    "    extra_minutes_rev = extra_minutes * user_data['usd_per_minute']\n",
    "    extra_gb_rev = np.ceil(extra_mb/1024) * user_data['usd_per_gb']\n",
    "    \n",
    "    revenue = monthly_pay + extra_messages_rev + extra_minutes_rev + extra_gb_rev\n",
    "    return revenue\n",
    "        "
   ]
  },
  {
   "cell_type": "code",
   "execution_count": 354,
   "metadata": {},
   "outputs": [
    {
     "data": {
      "text/html": [
       "<div>\n",
       "<style scoped>\n",
       "    .dataframe tbody tr th:only-of-type {\n",
       "        vertical-align: middle;\n",
       "    }\n",
       "\n",
       "    .dataframe tbody tr th {\n",
       "        vertical-align: top;\n",
       "    }\n",
       "\n",
       "    .dataframe thead th {\n",
       "        text-align: right;\n",
       "    }\n",
       "</style>\n",
       "<table border=\"1\" class=\"dataframe\">\n",
       "  <thead>\n",
       "    <tr style=\"text-align: right;\">\n",
       "      <th></th>\n",
       "      <th>user_id</th>\n",
       "      <th>month</th>\n",
       "      <th>call_minutes</th>\n",
       "      <th>messages</th>\n",
       "      <th>mb_used</th>\n",
       "      <th>first_name</th>\n",
       "      <th>last_name</th>\n",
       "      <th>age</th>\n",
       "      <th>city</th>\n",
       "      <th>reg_date</th>\n",
       "      <th>...</th>\n",
       "      <th>tenure</th>\n",
       "      <th>messages_included</th>\n",
       "      <th>mb_per_month_included</th>\n",
       "      <th>minutes_included</th>\n",
       "      <th>usd_monthly_pay</th>\n",
       "      <th>usd_per_gb</th>\n",
       "      <th>usd_per_message</th>\n",
       "      <th>usd_per_minute</th>\n",
       "      <th>plan_name</th>\n",
       "      <th>revenue</th>\n",
       "    </tr>\n",
       "  </thead>\n",
       "  <tbody>\n",
       "    <tr>\n",
       "      <th>984</th>\n",
       "      <td>1083</td>\n",
       "      <td>10</td>\n",
       "      <td>17.0</td>\n",
       "      <td>4.0</td>\n",
       "      <td>2912.0</td>\n",
       "      <td>Lyndia</td>\n",
       "      <td>Acevedo</td>\n",
       "      <td>65</td>\n",
       "      <td>Los Angeles-Long Beach-Anaheim, CA MSA</td>\n",
       "      <td>2018-10-26</td>\n",
       "      <td>...</td>\n",
       "      <td>2</td>\n",
       "      <td>50</td>\n",
       "      <td>15360</td>\n",
       "      <td>500</td>\n",
       "      <td>20</td>\n",
       "      <td>10</td>\n",
       "      <td>0.03</td>\n",
       "      <td>0.03</td>\n",
       "      <td>surf</td>\n",
       "      <td>20.0</td>\n",
       "    </tr>\n",
       "    <tr>\n",
       "      <th>373</th>\n",
       "      <td>1247</td>\n",
       "      <td>12</td>\n",
       "      <td>496.0</td>\n",
       "      <td>112.0</td>\n",
       "      <td>26552.0</td>\n",
       "      <td>Marion</td>\n",
       "      <td>Singleton</td>\n",
       "      <td>75</td>\n",
       "      <td>Los Angeles-Long Beach-Anaheim, CA MSA</td>\n",
       "      <td>2018-04-12</td>\n",
       "      <td>...</td>\n",
       "      <td>8</td>\n",
       "      <td>1000</td>\n",
       "      <td>30720</td>\n",
       "      <td>3000</td>\n",
       "      <td>70</td>\n",
       "      <td>7</td>\n",
       "      <td>0.01</td>\n",
       "      <td>0.01</td>\n",
       "      <td>ultimate</td>\n",
       "      <td>70.0</td>\n",
       "    </tr>\n",
       "  </tbody>\n",
       "</table>\n",
       "<p>2 rows × 22 columns</p>\n",
       "</div>"
      ],
      "text/plain": [
       "     user_id  month  call_minutes  messages  mb_used first_name  last_name  \\\n",
       "984     1083     10          17.0       4.0   2912.0     Lyndia    Acevedo   \n",
       "373     1247     12         496.0     112.0  26552.0     Marion  Singleton   \n",
       "\n",
       "     age                                    city   reg_date  ... tenure  \\\n",
       "984   65  Los Angeles-Long Beach-Anaheim, CA MSA 2018-10-26  ...      2   \n",
       "373   75  Los Angeles-Long Beach-Anaheim, CA MSA 2018-04-12  ...      8   \n",
       "\n",
       "    messages_included  mb_per_month_included  minutes_included  \\\n",
       "984                50                  15360               500   \n",
       "373              1000                  30720              3000   \n",
       "\n",
       "     usd_monthly_pay  usd_per_gb  usd_per_message  usd_per_minute  plan_name  \\\n",
       "984               20          10             0.03            0.03       surf   \n",
       "373               70           7             0.01            0.01   ultimate   \n",
       "\n",
       "     revenue  \n",
       "984     20.0  \n",
       "373     70.0  \n",
       "\n",
       "[2 rows x 22 columns]"
      ]
     },
     "execution_count": 354,
     "metadata": {},
     "output_type": "execute_result"
    }
   ],
   "source": [
    "user_data['revenue'] = user_data.apply(calculate_revenue, axis=1)\n",
    "user_data.month.astype('int')\n",
    "user_data.sample(2)"
   ]
  },
  {
   "cell_type": "code",
   "execution_count": 355,
   "metadata": {},
   "outputs": [
    {
     "data": {
      "text/plain": [
       "0"
      ]
     },
     "execution_count": 355,
     "metadata": {},
     "output_type": "execute_result"
    }
   ],
   "source": [
    "user_data.isna().sum().sum()"
   ]
  },
  {
   "cell_type": "code",
   "execution_count": 356,
   "metadata": {},
   "outputs": [],
   "source": [
    "user_data['month'] = user_data['month'].astype('int')"
   ]
  },
  {
   "cell_type": "markdown",
   "metadata": {},
   "source": [
    "# Study User behaviour"
   ]
  },
  {
   "cell_type": "code",
   "execution_count": 357,
   "metadata": {},
   "outputs": [
    {
     "data": {
      "text/plain": [
       "surf        1573\n",
       "ultimate     720\n",
       "Name: plan, dtype: int64"
      ]
     },
     "execution_count": 357,
     "metadata": {},
     "output_type": "execute_result"
    }
   ],
   "source": [
    "# class imabalance of plans\n",
    "user_data.plan.value_counts()"
   ]
  },
  {
   "cell_type": "code",
   "execution_count": 368,
   "metadata": {},
   "outputs": [
    {
     "data": {
      "text/plain": [
       "<AxesSubplot:xlabel='month'>"
      ]
     },
     "execution_count": 368,
     "metadata": {},
     "output_type": "execute_result"
    },
    {
     "data": {
      "image/png": "[encoded data removed]",
      "text/plain": [
       "<Figure size 640x480 with 1 Axes>"
      ]
     },
     "metadata": {},
     "output_type": "display_data"
    }
   ],
   "source": [
    "# users by month\n",
    "count_users_by_month = user_data.groupby(['month', 'plan'])['user_id'].count().unstack()\n",
    "da.plot(kind='bar')"
   ]
  },
  {
   "cell_type": "markdown",
   "metadata": {},
   "source": [
    "There is a gradual increase in clients with Megaline from January to decemeber for both plans"
   ]
  },
  {
   "cell_type": "markdown",
   "metadata": {},
   "source": [
    "## Average Monthly Usage of Services Per Plan "
   ]
  },
  {
   "cell_type": "code",
   "execution_count": 369,
   "metadata": {},
   "outputs": [
    {
     "data": {
      "text/html": [
       "<div>\n",
       "<style scoped>\n",
       "    .dataframe tbody tr th:only-of-type {\n",
       "        vertical-align: middle;\n",
       "    }\n",
       "\n",
       "    .dataframe tbody tr th {\n",
       "        vertical-align: top;\n",
       "    }\n",
       "\n",
       "    .dataframe thead tr th {\n",
       "        text-align: left;\n",
       "    }\n",
       "\n",
       "    .dataframe thead tr:last-of-type th {\n",
       "        text-align: right;\n",
       "    }\n",
       "</style>\n",
       "<table border=\"1\" class=\"dataframe\">\n",
       "  <thead>\n",
       "    <tr>\n",
       "      <th></th>\n",
       "      <th colspan=\"2\" halign=\"left\">call_minutes</th>\n",
       "      <th colspan=\"2\" halign=\"left\">messages</th>\n",
       "      <th colspan=\"2\" halign=\"left\">mb_used</th>\n",
       "    </tr>\n",
       "    <tr>\n",
       "      <th>plan</th>\n",
       "      <th>surf</th>\n",
       "      <th>ultimate</th>\n",
       "      <th>surf</th>\n",
       "      <th>ultimate</th>\n",
       "      <th>surf</th>\n",
       "      <th>ultimate</th>\n",
       "    </tr>\n",
       "    <tr>\n",
       "      <th>month</th>\n",
       "      <th></th>\n",
       "      <th></th>\n",
       "      <th></th>\n",
       "      <th></th>\n",
       "      <th></th>\n",
       "      <th></th>\n",
       "    </tr>\n",
       "  </thead>\n",
       "  <tbody>\n",
       "    <tr>\n",
       "      <th>1</th>\n",
       "      <td>203.000000</td>\n",
       "      <td>193.500000</td>\n",
       "      <td>10.500000</td>\n",
       "      <td>15.500000</td>\n",
       "      <td>4875.000000</td>\n",
       "      <td>6918.500000</td>\n",
       "    </tr>\n",
       "    <tr>\n",
       "      <th>2</th>\n",
       "      <td>297.000000</td>\n",
       "      <td>403.142857</td>\n",
       "      <td>12.000000</td>\n",
       "      <td>21.571429</td>\n",
       "      <td>12179.444444</td>\n",
       "      <td>17129.142857</td>\n",
       "    </tr>\n",
       "    <tr>\n",
       "      <th>3</th>\n",
       "      <td>330.000000</td>\n",
       "      <td>304.250000</td>\n",
       "      <td>15.260870</td>\n",
       "      <td>20.250000</td>\n",
       "      <td>13345.956522</td>\n",
       "      <td>18322.083333</td>\n",
       "    </tr>\n",
       "    <tr>\n",
       "      <th>4</th>\n",
       "      <td>351.540000</td>\n",
       "      <td>336.857143</td>\n",
       "      <td>17.400000</td>\n",
       "      <td>22.047619</td>\n",
       "      <td>11984.660000</td>\n",
       "      <td>16122.190476</td>\n",
       "    </tr>\n",
       "    <tr>\n",
       "      <th>5</th>\n",
       "      <td>399.584416</td>\n",
       "      <td>406.241379</td>\n",
       "      <td>24.012987</td>\n",
       "      <td>32.103448</td>\n",
       "      <td>13936.857143</td>\n",
       "      <td>16624.965517</td>\n",
       "    </tr>\n",
       "    <tr>\n",
       "      <th>6</th>\n",
       "      <td>431.298969</td>\n",
       "      <td>370.957447</td>\n",
       "      <td>25.298969</td>\n",
       "      <td>29.340426</td>\n",
       "      <td>15302.000000</td>\n",
       "      <td>15338.425532</td>\n",
       "    </tr>\n",
       "    <tr>\n",
       "      <th>7</th>\n",
       "      <td>449.983471</td>\n",
       "      <td>427.067797</td>\n",
       "      <td>27.033058</td>\n",
       "      <td>32.830508</td>\n",
       "      <td>16784.090909</td>\n",
       "      <td>16345.288136</td>\n",
       "    </tr>\n",
       "    <tr>\n",
       "      <th>8</th>\n",
       "      <td>410.111111</td>\n",
       "      <td>421.436620</td>\n",
       "      <td>28.777778</td>\n",
       "      <td>38.478873</td>\n",
       "      <td>16795.820988</td>\n",
       "      <td>17815.225352</td>\n",
       "    </tr>\n",
       "    <tr>\n",
       "      <th>9</th>\n",
       "      <td>414.226804</td>\n",
       "      <td>437.511628</td>\n",
       "      <td>30.762887</td>\n",
       "      <td>37.895349</td>\n",
       "      <td>16591.917526</td>\n",
       "      <td>16970.360465</td>\n",
       "    </tr>\n",
       "    <tr>\n",
       "      <th>10</th>\n",
       "      <td>429.729958</td>\n",
       "      <td>450.735849</td>\n",
       "      <td>33.839662</td>\n",
       "      <td>39.443396</td>\n",
       "      <td>17311.831224</td>\n",
       "      <td>17613.066038</td>\n",
       "    </tr>\n",
       "    <tr>\n",
       "      <th>11</th>\n",
       "      <td>423.325088</td>\n",
       "      <td>445.196850</td>\n",
       "      <td>32.385159</td>\n",
       "      <td>38.606299</td>\n",
       "      <td>16339.749117</td>\n",
       "      <td>17034.188976</td>\n",
       "    </tr>\n",
       "    <tr>\n",
       "      <th>12</th>\n",
       "      <td>473.836478</td>\n",
       "      <td>459.099338</td>\n",
       "      <td>38.600629</td>\n",
       "      <td>45.006623</td>\n",
       "      <td>18132.974843</td>\n",
       "      <td>18323.682119</td>\n",
       "    </tr>\n",
       "  </tbody>\n",
       "</table>\n",
       "</div>"
      ],
      "text/plain": [
       "      call_minutes               messages                  mb_used  \\\n",
       "plan          surf    ultimate       surf   ultimate          surf   \n",
       "month                                                                \n",
       "1       203.000000  193.500000  10.500000  15.500000   4875.000000   \n",
       "2       297.000000  403.142857  12.000000  21.571429  12179.444444   \n",
       "3       330.000000  304.250000  15.260870  20.250000  13345.956522   \n",
       "4       351.540000  336.857143  17.400000  22.047619  11984.660000   \n",
       "5       399.584416  406.241379  24.012987  32.103448  13936.857143   \n",
       "6       431.298969  370.957447  25.298969  29.340426  15302.000000   \n",
       "7       449.983471  427.067797  27.033058  32.830508  16784.090909   \n",
       "8       410.111111  421.436620  28.777778  38.478873  16795.820988   \n",
       "9       414.226804  437.511628  30.762887  37.895349  16591.917526   \n",
       "10      429.729958  450.735849  33.839662  39.443396  17311.831224   \n",
       "11      423.325088  445.196850  32.385159  38.606299  16339.749117   \n",
       "12      473.836478  459.099338  38.600629  45.006623  18132.974843   \n",
       "\n",
       "                     \n",
       "plan       ultimate  \n",
       "month                \n",
       "1       6918.500000  \n",
       "2      17129.142857  \n",
       "3      18322.083333  \n",
       "4      16122.190476  \n",
       "5      16624.965517  \n",
       "6      15338.425532  \n",
       "7      16345.288136  \n",
       "8      17815.225352  \n",
       "9      16970.360465  \n",
       "10     17613.066038  \n",
       "11     17034.188976  \n",
       "12     18323.682119  "
      ]
     },
     "execution_count": 369,
     "metadata": {},
     "output_type": "execute_result"
    }
   ],
   "source": [
    "# Calculate the mean call duration per month and plan\n",
    "mean_duration = user_data.groupby(['month', 'plan'])['call_minutes', 'messages', 'mb_used'].mean().unstack()\n",
    "mean_duration.index = mean_duration.index.astype('int')\n",
    "mean_duration"
   ]
  },
  {
   "cell_type": "code",
   "execution_count": 370,
   "metadata": {},
   "outputs": [
    {
     "data": {
      "image/png": "[encoded data removed]",
      "text/plain": [
       "<Figure size 1000x600 with 1 Axes>"
      ]
     },
     "metadata": {},
     "output_type": "display_data"
    },
    {
     "data": {
      "image/png": "[encoded data removed]",
      "text/plain": [
       "<Figure size 1000x600 with 1 Axes>"
      ]
     },
     "metadata": {},
     "output_type": "display_data"
    },
    {
     "data": {
      "image/png": "[encoded data removed]",
      "text/plain": [
       "<Figure size 1000x600 with 1 Axes>"
      ]
     },
     "metadata": {},
     "output_type": "display_data"
    }
   ],
   "source": [
    "# List of the columns for each metric\n",
    "metrics = ['call_minutes', 'messages', 'mb_used']\n",
    "\n",
    "# Loop through each metric and plot\n",
    "for metric in metrics:\n",
    "    \n",
    "    # Plot the surf and ultimate plans for each metric\n",
    "    mean_duration[metric].plot(kind='bar', title=f'Average {metric.replace(\"_\", \" \").capitalize()} by Month and Plan', figsize=(10, 6))\n",
    "    \n",
    "    # Set labels\n",
    "    plt.xlabel('Month')\n",
    "    plt.ylabel(f'Average {metric.replace(\"_\", \" \").capitalize()}')\n",
    "    \n",
    "    # Display the plot\n",
    "    plt.show()\n"
   ]
  },
  {
   "cell_type": "markdown",
   "metadata": {},
   "source": [
    "* significantly lower usage of services at the first quarter of the year. to be expected since there was a steady growth in number of users registerign for both plans\n",
    "* ultimate plan clients have a higher average count of messages. \n",
    "* otherwise, the useage is quite similar, could recomending the ultimate plan to surf plan clients increase revenue"
   ]
  },
  {
   "cell_type": "markdown",
   "metadata": {},
   "source": [
    "### Monthly Distribution of Services Per Plan"
   ]
  },
  {
   "cell_type": "code",
   "execution_count": 371,
   "metadata": {},
   "outputs": [
    {
     "data": {
      "image/png": "[encoded data removed]",
      "text/plain": [
       "<Figure size 640x480 with 1 Axes>"
      ]
     },
     "metadata": {},
     "output_type": "display_data"
    },
    {
     "data": {
      "image/png": "[encoded data removed]",
      "text/plain": [
       "<Figure size 640x480 with 1 Axes>"
      ]
     },
     "metadata": {},
     "output_type": "display_data"
    },
    {
     "data": {
      "image/png": "[encoded data removed]",
      "text/plain": [
       "<Figure size 640x480 with 1 Axes>"
      ]
     },
     "metadata": {},
     "output_type": "display_data"
    }
   ],
   "source": [
    "import seaborn as sns\n",
    "import matplotlib.pyplot as plt\n",
    "\n",
    "metrics = ['call_minutes', 'messages', 'mb_used']\n",
    "\n",
    "for metric in metrics:\n",
    "    # Use seaborn's boxplot with the full user_data DataFrame\n",
    "    sns.boxplot(x=metric, y='plan_name', data=user_data, orient='h')\n",
    "\n",
    "    # Set labels and title\n",
    "    plt.xlabel(f'Number of {metric} used in a month')\n",
    "    plt.title(f'Distribution of {metric} by Plan')\n",
    "    plt.show()\n"
   ]
  },
  {
   "cell_type": "markdown",
   "metadata": {},
   "source": [
    "Minutes: \n",
    "* the distribution of Monthly Minutes used by both Surf and Ultimate plan members is **similar**\n",
    "\n",
    "Messages:\n",
    "* The distribution of message counts is **right-skewed** for Ultimate plan members. There is a greater variability in the upper half of the data, with some users sending far more messages than the median.\n",
    "* Surf: With **Q3 at 50**, **75% of users** have a low message count, indicating that most users fall within a narrow range. but there are a few outliers.\n",
    "\n",
    "mb_used: \n",
    "* Both plans have a **similar distibution**. Monthy internet usage q1 starting at 0, q2 at around 120000 mb, median at 170000, q3 at 220000, and q4 at aprox 350000. there seem to be a few extreme outliers for the Surf plan members \n"
   ]
  },
  {
   "cell_type": "markdown",
   "metadata": {},
   "source": [
    "## Distribution of Monthly Revenue Per Plan"
   ]
  },
  {
   "cell_type": "code",
   "execution_count": 373,
   "metadata": {},
   "outputs": [
    {
     "data": {
      "image/png": "[encoded data removed]",
      "text/plain": [
       "<Figure size 1000x600 with 1 Axes>"
      ]
     },
     "metadata": {},
     "output_type": "display_data"
    }
   ],
   "source": [
    "import seaborn as sns\n",
    "plt.figure(figsize=(10,6))\n",
    "sns.boxplot(x='plan', y='revenue', data=user_data)\n",
    "plt.yticks(np.arange(0, 600, 50))\n",
    "plt.axhline(y=70, color='green')\n",
    "plt.axhline(y=20, color='orange')\n",
    "plt.show()"
   ]
  },
  {
   "cell_type": "markdown",
   "metadata": {},
   "source": [
    "* green line: at 70 dollars ( monthy cost of Ultimate plan)\n",
    "* orange line: at 70 dollars ( monthy cost of Surf plan)\n",
    "* ultimate: most of the clients returns around 70 dollar monthly. likely due to many clients using their plan without exceeeding the included services. \n",
    "* surf: there is greater distribution of returned revenue from surf plan members. Median falls arount 40 dollars. q3 above 70 dollars and q4 at more that 150 dollar. There are also a number of outliers greater than q4. \n",
    "\n",
    "* due to the low included services in the surf plan more than 50 percent of the revenue earned from surf plan clients was a result of using more than the limit of services included with the plan. "
   ]
  },
  {
   "cell_type": "markdown",
   "metadata": {},
   "source": [
    "It looks like the Surf plan brings in a greater distribution of revenue, more than 25% being higher than the most of the ultimate plan revenue. But this could be a result of the imbalance sample size. "
   ]
  },
  {
   "cell_type": "markdown",
   "metadata": {},
   "source": [
    "# Test Statistical Hypotheses"
   ]
  },
  {
   "cell_type": "markdown",
   "metadata": {},
   "source": [
    "Using a t-test to determine if there is a significant difference between the average revenue of two phone plans (Surf and Ultimate) or if it could have occurred by chance. Determine which plan is returning a higher revenue. "
   ]
  },
  {
   "cell_type": "code",
   "execution_count": 374,
   "metadata": {},
   "outputs": [],
   "source": [
    "# monthly revenues for each plan and user\n",
    "revenue_from_surf_users = user_data[user_data['plan']== 'surf']['revenue']\n",
    "revenue_from_ultimate_users = user_data[user_data['plan']== 'ultimate']['revenue']"
   ]
  },
  {
   "cell_type": "code",
   "execution_count": 375,
   "metadata": {},
   "outputs": [
    {
     "name": "stdout",
     "output_type": "stream",
     "text": [
      "p-value:  3.1703905481135734e-15\n",
      "We reject the null hypothesis, \n"
     ]
    }
   ],
   "source": [
    "# Test the hypotheses\n",
    "# H_0 = average revenue from users of the Ultimate and Surf calling plans is equal\n",
    "# H_1 = average revenue from users of the Ultimate and Surf calling plans differs\n",
    "\n",
    "# Welch's t-test (equal_var = False for unequal variances) to check for any variance in the imbalanced sample size \n",
    "results = st.ttest_ind(revenue_from_surf_users, revenue_from_ultimate_users, equal_var=False)\n",
    "print('p-value: ', results.pvalue)\n",
    "\n",
    "if results.pvalue < alpha:\n",
    "    print(\"We reject the null hypothesis, \")\n",
    "else:\n",
    "    print(\"We can't reject the null hypothesis\")\n"
   ]
  },
  {
   "cell_type": "markdown",
   "metadata": {},
   "source": [
    "The p-value tells us there is a difference between the averages of the two plans that is larger than the critical value, therefore we can not reject the null hypothesis."
   ]
  },
  {
   "cell_type": "markdown",
   "metadata": {},
   "source": [
    "A bootstrap mean independently resamples from both groups without assuming equal variance or normality. \n",
    "* ensures reliable estimates of the mean and confidence intervals, which is important in a case like here where ther is a sample size imbalance. \n",
    "* It helps reduce bias and accurately reflects the true variability in each group."
   ]
  },
  {
   "cell_type": "code",
   "execution_count": 376,
   "metadata": {},
   "outputs": [
    {
     "name": "stdout",
     "output_type": "stream",
     "text": [
      "Surf revenue 95% confidence interval: [58.03859011 63.51448172]\n",
      "Ultimate revenue 95% confidence interval: [71.53611111 73.16944444]\n"
     ]
    }
   ],
   "source": [
    "# calculate bootstrap confidence intervals for the mean \n",
    "def bootstrap_mean(data, n_bootstrap=10000):\n",
    "    boot_means = []\n",
    "    for _ in range(n_bootstrap):\n",
    "        sample = np.random.choice(data, size=len(data), replace=True)\n",
    "        boot_means.append(sample.mean())\n",
    "    return np.percentile(boot_means, [2.5, 97.5])\n",
    "\n",
    "# Get bootstrap confidence intervals for each plan\n",
    "surf_bootstrap_ci = bootstrap_mean(revenue_from_surf_users)\n",
    "ultimate_bootstrap_ci = bootstrap_mean(revenue_from_ultimate_users)\n",
    "\n",
    "print(f\"Surf revenue 95% confidence interval: {surf_bootstrap_ci}\")\n",
    "print(f\"Ultimate revenue 95% confidence interval: {ultimate_bootstrap_ci}\")\n"
   ]
  },
  {
   "cell_type": "markdown",
   "metadata": {},
   "source": [
    "The p-value from our hypothesis test is 3.17e-15, which is an extremely small value (effectively 0). Since this p-value is much smaller than our chosen significance level of 0.05, we can confidently reject the null hypothesis.\n",
    "\n",
    "This result indicates that the Ultimate and Surf plans are not generating the same average revenue, and this difference is statistically significant. Therefore, any observed revenue disparity between the two plans is unlikely due to chance.\n",
    "\n",
    "To further understand which plan is returning a higher revenue, bootstrap sampling was used to calculate the 95% confidence intervals for the mean revenue of each plan.\n",
    "\n",
    "    The 95% confidence interval for the Surf plan’s revenue is [58.03, 63.49].\n",
    "    The 95% confidence interval for the Ultimate plan’s revenue is [71.55, 73.17].\n",
    "\n",
    "95% confidence that the true mean revenue for the Surf plan is between 58-64 dollars, and the true mean revenue for the Ultimate plan is between 71-74 dollars.\n",
    "\n",
    "**Since the confidence intervals do not overlap, this strongly suggests that the average revenue of the Ultimate plan is significantly higher than that of the Surf plan.** The fact that the lowest revenue estimate for the Ultimate plan (71.55) is higher than the highest estimate for the Surf plan (63.49) further supports this conclusion.\n"
   ]
  },
  {
   "cell_type": "markdown",
   "metadata": {},
   "source": [
    "# Final Report"
   ]
  },
  {
   "cell_type": "markdown",
   "metadata": {},
   "source": [
    "1. Datasets was loaded to their respective variables \n",
    "2. Datasets were sampled, and checked for missing values and duplicates. data was cleaned and a new dataset consisting of the sum of services per user per month was created and merged with other datasets\n",
    "3. monthly revenue was calculated for each user per month with their service. \n",
    "4. Looked at user behaviors by ploting their monthy usage and revenue\n",
    "5. Statistical test hypothesis using the t-test and the equal_var parameter set to False to account for any variance as a result of the imbalance data size. Used bootstrap mean confidence intervals for determining which plan produces a higher monthly revenue. "
   ]
  },
  {
   "cell_type": "markdown",
   "metadata": {},
   "source": [
    "The t-test resulted in a p-value of **3.17e-15**, significantly lower than the critical value, indicating a statistically significant difference in average revenue between the Surf and Ultimate plans."
   ]
  },
  {
   "cell_type": "markdown",
   "metadata": {},
   "source": [
    "Bootstrap confidence intervals show the Surf plan's revenue is between **58.03 and 63.49** dollars, while the Ultimate plan's is between **71.55 and 73.17** dollars. Since the intervals don't overlap, the **Ultimate plan generates significantly higher revenue** than the Surf plan."
   ]
  },
  {
   "cell_type": "markdown",
   "metadata": {},
   "source": [
    "From a business perspective, this indicates that the **Ultimate plan is more profitable per user than the Surf plan.** This insight could guide decisions regarding marketing, pricing strategies, or potential adjustments to the Surf plan to increase its revenue performance."
   ]
  },
  {
   "cell_type": "markdown",
   "metadata": {},
   "source": [
    "**Further analysis could be done to understand if converting Surf plan members to Ultimate plan members yeilds higher revenue**"
   ]
  }
 ],
 "metadata": {
  "ExecuteTimeLog": [
   {
    "duration": 828,
    "start_time": "2021-11-16T09:21:11.304Z"
   },
   {
    "duration": 893,
    "start_time": "2021-11-16T09:21:17.728Z"
   },
   {
    "duration": 1150,
    "start_time": "2021-11-16T09:21:29.568Z"
   },
   {
    "duration": 3,
    "start_time": "2021-11-16T09:24:14.495Z"
   },
   {
    "duration": 120,
    "start_time": "2021-11-16T09:24:46.630Z"
   },
   {
    "duration": 3,
    "start_time": "2021-11-16T09:28:27.882Z"
   },
   {
    "duration": 4,
    "start_time": "2021-11-16T09:29:54.281Z"
   },
   {
    "duration": 3,
    "start_time": "2021-11-16T09:30:45.936Z"
   },
   {
    "duration": 4,
    "start_time": "2021-11-16T09:31:06.300Z"
   },
   {
    "duration": 113,
    "start_time": "2021-11-16T09:31:37.208Z"
   },
   {
    "duration": 143,
    "start_time": "2021-11-16T09:31:48.656Z"
   },
   {
    "duration": 98,
    "start_time": "2021-11-16T09:31:55.678Z"
   },
   {
    "duration": 3,
    "start_time": "2021-11-16T09:32:08.535Z"
   },
   {
    "duration": 111,
    "start_time": "2021-11-16T09:32:10.120Z"
   },
   {
    "duration": 3,
    "start_time": "2021-11-16T09:32:15.732Z"
   },
   {
    "duration": 4,
    "start_time": "2021-11-16T09:32:29.423Z"
   },
   {
    "duration": 3,
    "start_time": "2021-11-16T10:03:03.074Z"
   },
   {
    "duration": 3,
    "start_time": "2021-11-16T10:10:01.288Z"
   },
   {
    "duration": 3,
    "start_time": "2021-11-16T10:10:46.923Z"
   },
   {
    "duration": 121,
    "start_time": "2021-11-16T10:37:46.494Z"
   },
   {
    "duration": 125,
    "start_time": "2021-11-16T10:38:20.632Z"
   },
   {
    "duration": 112,
    "start_time": "2021-11-16T10:46:53.001Z"
   },
   {
    "duration": 110,
    "start_time": "2021-11-16T10:48:25.775Z"
   },
   {
    "duration": 3,
    "start_time": "2021-11-16T10:50:18.720Z"
   },
   {
    "duration": 4,
    "start_time": "2021-11-16T10:50:37.649Z"
   },
   {
    "duration": 2,
    "start_time": "2021-11-16T10:50:51.884Z"
   },
   {
    "duration": 3,
    "start_time": "2021-11-16T10:51:56.237Z"
   },
   {
    "duration": 101,
    "start_time": "2021-11-16T10:53:13.791Z"
   },
   {
    "duration": 3,
    "start_time": "2021-11-16T10:55:59.186Z"
   },
   {
    "duration": 3,
    "start_time": "2021-11-16T10:56:10.751Z"
   },
   {
    "duration": 3,
    "start_time": "2021-11-16T10:56:49.038Z"
   },
   {
    "duration": 3,
    "start_time": "2021-11-16T10:56:49.174Z"
   },
   {
    "duration": 4,
    "start_time": "2021-11-16T10:56:49.414Z"
   },
   {
    "duration": 3,
    "start_time": "2021-11-16T10:56:49.680Z"
   },
   {
    "duration": 3,
    "start_time": "2021-11-16T10:56:50.370Z"
   },
   {
    "duration": 114,
    "start_time": "2021-11-16T10:59:34.518Z"
   },
   {
    "duration": 3,
    "start_time": "2021-11-16T11:01:41.201Z"
   },
   {
    "duration": 116,
    "start_time": "2021-11-16T11:01:48.754Z"
   },
   {
    "duration": 3,
    "start_time": "2021-11-16T11:02:16.685Z"
   },
   {
    "duration": 3,
    "start_time": "2021-11-16T11:02:19.479Z"
   },
   {
    "duration": 3,
    "start_time": "2021-11-16T11:02:47.067Z"
   },
   {
    "duration": 3,
    "start_time": "2021-11-16T11:02:49.353Z"
   },
   {
    "duration": 3,
    "start_time": "2021-11-16T11:03:07.835Z"
   },
   {
    "duration": 3,
    "start_time": "2021-11-16T11:03:07.953Z"
   },
   {
    "duration": 112,
    "start_time": "2021-11-16T11:07:52.072Z"
   },
   {
    "duration": 187,
    "start_time": "2021-11-16T11:09:23.468Z"
   },
   {
    "duration": 4,
    "start_time": "2021-11-16T11:10:01.455Z"
   },
   {
    "duration": 3,
    "start_time": "2021-11-16T11:10:05.069Z"
   },
   {
    "duration": 4,
    "start_time": "2021-11-16T11:10:13.376Z"
   },
   {
    "duration": 3,
    "start_time": "2021-11-16T11:10:14.434Z"
   },
   {
    "duration": 3,
    "start_time": "2021-11-16T11:10:22.853Z"
   },
   {
    "duration": 4,
    "start_time": "2021-11-16T11:27:29.279Z"
   },
   {
    "duration": 4,
    "start_time": "2021-11-16T11:29:08.919Z"
   },
   {
    "duration": 118,
    "start_time": "2021-11-16T11:29:46.703Z"
   },
   {
    "duration": 437,
    "start_time": "2021-11-16T11:36:02.181Z"
   },
   {
    "duration": 157,
    "start_time": "2021-11-16T11:36:14.388Z"
   },
   {
    "duration": 207,
    "start_time": "2021-11-16T11:47:15.898Z"
   },
   {
    "duration": 3,
    "start_time": "2021-11-16T11:53:52.092Z"
   },
   {
    "duration": 3,
    "start_time": "2021-11-16T11:53:52.236Z"
   },
   {
    "duration": 3,
    "start_time": "2021-11-16T11:59:12.005Z"
   },
   {
    "duration": 112,
    "start_time": "2021-11-16T12:00:33.446Z"
   },
   {
    "duration": 3,
    "start_time": "2021-11-16T12:02:14.453Z"
   },
   {
    "duration": 3,
    "start_time": "2021-11-16T12:02:39.512Z"
   },
   {
    "duration": 106,
    "start_time": "2021-11-16T12:03:03.460Z"
   },
   {
    "duration": 3,
    "start_time": "2021-11-17T20:37:21.139Z"
   },
   {
    "duration": 3,
    "start_time": "2021-11-17T20:37:22.229Z"
   },
   {
    "duration": 3,
    "start_time": "2021-11-17T20:38:38.806Z"
   },
   {
    "duration": 3,
    "start_time": "2021-11-17T20:38:41.958Z"
   },
   {
    "duration": 3,
    "start_time": "2021-11-17T20:43:46.551Z"
   },
   {
    "duration": 4,
    "start_time": "2021-11-17T20:58:21.835Z"
   },
   {
    "duration": 3,
    "start_time": "2021-11-17T20:59:21.872Z"
   },
   {
    "duration": 4,
    "start_time": "2021-11-17T20:59:45.352Z"
   },
   {
    "duration": 4,
    "start_time": "2021-11-17T20:59:49.646Z"
   },
   {
    "duration": 159,
    "start_time": "2021-11-17T21:02:26.949Z"
   },
   {
    "duration": 3,
    "start_time": "2021-11-17T21:03:53.461Z"
   },
   {
    "duration": 3,
    "start_time": "2021-11-17T21:03:53.694Z"
   },
   {
    "duration": 3,
    "start_time": "2021-11-17T21:05:28.145Z"
   },
   {
    "duration": 116,
    "start_time": "2021-11-17T21:05:57.787Z"
   },
   {
    "duration": 3,
    "start_time": "2021-11-17T21:06:37.993Z"
   },
   {
    "duration": 3,
    "start_time": "2021-11-17T21:06:38.261Z"
   },
   {
    "duration": 3,
    "start_time": "2021-11-17T21:11:54.358Z"
   },
   {
    "duration": 3,
    "start_time": "2021-11-17T21:12:43.846Z"
   },
   {
    "duration": 4,
    "start_time": "2021-11-17T21:13:08.773Z"
   },
   {
    "duration": 3,
    "start_time": "2021-11-17T21:14:44.441Z"
   },
   {
    "duration": 3,
    "start_time": "2021-11-17T21:15:42.059Z"
   },
   {
    "duration": 4,
    "start_time": "2021-11-17T21:15:51.995Z"
   },
   {
    "duration": 3,
    "start_time": "2021-11-17T21:15:53.923Z"
   },
   {
    "duration": 3,
    "start_time": "2021-11-17T21:15:55.282Z"
   },
   {
    "duration": 3,
    "start_time": "2021-11-17T21:16:28.492Z"
   },
   {
    "duration": 3,
    "start_time": "2021-11-17T21:16:32.603Z"
   },
   {
    "duration": 3,
    "start_time": "2021-11-17T21:17:06.941Z"
   },
   {
    "duration": 98,
    "start_time": "2021-11-17T21:18:05.733Z"
   },
   {
    "duration": 4,
    "start_time": "2021-11-17T21:21:35.255Z"
   },
   {
    "duration": 3,
    "start_time": "2021-11-17T21:21:37.804Z"
   },
   {
    "duration": 4,
    "start_time": "2021-11-17T21:23:06.071Z"
   },
   {
    "duration": 3,
    "start_time": "2021-11-17T21:23:24.799Z"
   },
   {
    "duration": 3,
    "start_time": "2021-11-17T21:23:32.591Z"
   },
   {
    "duration": 98,
    "start_time": "2021-11-17T21:28:31.559Z"
   },
   {
    "duration": 3,
    "start_time": "2021-11-17T21:28:45.448Z"
   },
   {
    "duration": 3,
    "start_time": "2021-11-17T21:29:17.303Z"
   },
   {
    "duration": 3,
    "start_time": "2021-11-17T21:29:29.617Z"
   },
   {
    "duration": 3,
    "start_time": "2021-11-17T21:29:32.681Z"
   },
   {
    "duration": 3,
    "start_time": "2021-11-17T21:36:11.474Z"
   },
   {
    "duration": 3,
    "start_time": "2021-11-17T21:36:14.791Z"
   },
   {
    "duration": 3,
    "start_time": "2021-11-17T21:36:53.943Z"
   },
   {
    "duration": 3,
    "start_time": "2021-11-17T21:36:56.165Z"
   },
   {
    "duration": 4,
    "start_time": "2021-11-17T21:37:16.590Z"
   },
   {
    "duration": 3,
    "start_time": "2021-11-17T21:37:22.702Z"
   },
   {
    "duration": 4,
    "start_time": "2021-11-17T21:38:03.479Z"
   },
   {
    "duration": 3,
    "start_time": "2021-11-17T21:38:08.601Z"
   },
   {
    "duration": 3,
    "start_time": "2021-11-17T21:38:12.928Z"
   },
   {
    "duration": 3,
    "start_time": "2021-11-17T21:38:48.896Z"
   },
   {
    "duration": 2,
    "start_time": "2021-11-17T21:38:49.171Z"
   },
   {
    "duration": 4,
    "start_time": "2021-11-17T21:39:57.889Z"
   },
   {
    "duration": 3,
    "start_time": "2021-11-17T21:39:58.057Z"
   },
   {
    "duration": 3,
    "start_time": "2021-11-17T21:41:20.108Z"
   },
   {
    "duration": 3,
    "start_time": "2021-11-17T21:41:20.629Z"
   },
   {
    "duration": 3,
    "start_time": "2021-11-17T21:42:49.136Z"
   },
   {
    "duration": 3,
    "start_time": "2021-11-17T21:43:15.137Z"
   },
   {
    "duration": 4,
    "start_time": "2021-11-17T21:43:16.766Z"
   },
   {
    "duration": 4,
    "start_time": "2021-11-17T21:43:31.711Z"
   },
   {
    "duration": 3,
    "start_time": "2021-11-17T21:43:36.312Z"
   },
   {
    "duration": 4,
    "start_time": "2021-11-17T21:45:08.825Z"
   },
   {
    "duration": 4,
    "start_time": "2021-11-17T21:45:10.119Z"
   },
   {
    "duration": 4,
    "start_time": "2021-11-17T21:45:13.748Z"
   },
   {
    "duration": 3,
    "start_time": "2021-11-17T21:45:22.219Z"
   },
   {
    "duration": 3,
    "start_time": "2021-11-17T21:45:33.412Z"
   },
   {
    "duration": 2,
    "start_time": "2021-11-17T21:46:01.885Z"
   },
   {
    "duration": 3,
    "start_time": "2021-11-17T21:46:03.628Z"
   },
   {
    "duration": 107,
    "start_time": "2021-11-17T21:47:32.512Z"
   },
   {
    "duration": 103,
    "start_time": "2021-11-17T21:50:36.243Z"
   },
   {
    "duration": 3,
    "start_time": "2021-11-18T06:28:31.440Z"
   },
   {
    "duration": 3,
    "start_time": "2021-11-18T06:29:00.168Z"
   },
   {
    "duration": 3,
    "start_time": "2021-11-18T06:31:27.008Z"
   },
   {
    "duration": 2,
    "start_time": "2021-11-18T06:35:34.288Z"
   },
   {
    "duration": 2,
    "start_time": "2021-11-18T06:38:04.527Z"
   },
   {
    "duration": 2533,
    "start_time": "2024-09-16T15:17:48.804Z"
   },
   {
    "duration": 254,
    "start_time": "2024-09-16T15:17:55.325Z"
   },
   {
    "duration": 9,
    "start_time": "2024-09-16T15:21:39.563Z"
   },
   {
    "duration": 11,
    "start_time": "2024-09-16T15:22:15.745Z"
   },
   {
    "duration": 7,
    "start_time": "2024-09-16T15:22:49.116Z"
   },
   {
    "duration": 8,
    "start_time": "2024-09-16T15:23:26.128Z"
   },
   {
    "duration": 16,
    "start_time": "2024-09-16T15:32:24.791Z"
   },
   {
    "duration": 11,
    "start_time": "2024-09-16T15:32:38.131Z"
   },
   {
    "duration": 3,
    "start_time": "2024-09-16T15:33:51.410Z"
   },
   {
    "duration": 708,
    "start_time": "2024-09-16T15:34:03.304Z"
   },
   {
    "duration": 5,
    "start_time": "2024-09-16T15:34:33.425Z"
   },
   {
    "duration": 5,
    "start_time": "2024-09-16T15:34:41.622Z"
   },
   {
    "duration": 17,
    "start_time": "2024-09-16T15:34:55.966Z"
   },
   {
    "duration": 5,
    "start_time": "2024-09-16T15:35:01.504Z"
   },
   {
    "duration": 4,
    "start_time": "2024-09-16T15:35:41.557Z"
   },
   {
    "duration": 4,
    "start_time": "2024-09-16T15:39:45.100Z"
   },
   {
    "duration": 11,
    "start_time": "2024-09-16T15:39:58.260Z"
   },
   {
    "duration": 10,
    "start_time": "2024-09-16T15:40:02.544Z"
   },
   {
    "duration": 3,
    "start_time": "2024-09-16T15:40:11.761Z"
   },
   {
    "duration": 32,
    "start_time": "2024-09-16T15:41:19.983Z"
   },
   {
    "duration": 10,
    "start_time": "2024-09-16T15:41:20.383Z"
   },
   {
    "duration": 4,
    "start_time": "2024-09-16T15:42:40.909Z"
   },
   {
    "duration": 26,
    "start_time": "2024-09-16T15:42:43.092Z"
   },
   {
    "duration": 12,
    "start_time": "2024-09-16T15:44:27.018Z"
   },
   {
    "duration": 10,
    "start_time": "2024-09-16T15:44:30.163Z"
   },
   {
    "duration": 7,
    "start_time": "2024-09-16T15:45:48.942Z"
   },
   {
    "duration": 3,
    "start_time": "2024-09-16T15:46:54.487Z"
   },
   {
    "duration": 11,
    "start_time": "2024-09-16T15:47:04.568Z"
   },
   {
    "duration": 4,
    "start_time": "2024-09-16T15:47:27.682Z"
   },
   {
    "duration": 14,
    "start_time": "2024-09-16T15:47:28.033Z"
   },
   {
    "duration": 3,
    "start_time": "2024-09-16T15:47:31.975Z"
   },
   {
    "duration": 13,
    "start_time": "2024-09-16T15:47:32.280Z"
   },
   {
    "duration": 2,
    "start_time": "2024-09-16T15:48:27.255Z"
   },
   {
    "duration": 35,
    "start_time": "2024-09-16T15:48:27.530Z"
   },
   {
    "duration": 3,
    "start_time": "2024-09-16T15:48:34.819Z"
   },
   {
    "duration": 15,
    "start_time": "2024-09-16T15:48:35.061Z"
   },
   {
    "duration": 2,
    "start_time": "2024-09-16T15:48:55.851Z"
   },
   {
    "duration": 15,
    "start_time": "2024-09-16T15:48:56.359Z"
   },
   {
    "duration": 3,
    "start_time": "2024-09-16T15:49:04.993Z"
   },
   {
    "duration": 18,
    "start_time": "2024-09-16T15:49:06.116Z"
   },
   {
    "duration": 3,
    "start_time": "2024-09-16T15:50:57.396Z"
   },
   {
    "duration": 15,
    "start_time": "2024-09-16T15:51:06.959Z"
   },
   {
    "duration": 3,
    "start_time": "2024-09-16T15:51:35.746Z"
   },
   {
    "duration": 67,
    "start_time": "2024-09-16T15:51:37.761Z"
   },
   {
    "duration": 3,
    "start_time": "2024-09-16T15:51:50.977Z"
   },
   {
    "duration": 16,
    "start_time": "2024-09-16T15:51:51.968Z"
   },
   {
    "duration": 25,
    "start_time": "2024-09-16T15:51:54.906Z"
   },
   {
    "duration": 8,
    "start_time": "2024-09-16T15:51:55.587Z"
   },
   {
    "duration": 8,
    "start_time": "2024-09-16T15:51:58.964Z"
   },
   {
    "duration": 2,
    "start_time": "2024-09-16T15:52:40.486Z"
   },
   {
    "duration": 16,
    "start_time": "2024-09-16T15:52:55.392Z"
   },
   {
    "duration": 16,
    "start_time": "2024-09-16T15:53:05.759Z"
   },
   {
    "duration": 15,
    "start_time": "2024-09-16T15:53:46.654Z"
   },
   {
    "duration": 76,
    "start_time": "2024-09-16T15:53:56.261Z"
   },
   {
    "duration": 3,
    "start_time": "2024-09-16T15:54:24.318Z"
   },
   {
    "duration": 26,
    "start_time": "2024-09-16T15:54:31.395Z"
   },
   {
    "duration": 9,
    "start_time": "2024-09-16T15:54:31.924Z"
   },
   {
    "duration": 33,
    "start_time": "2024-09-16T15:54:47.582Z"
   },
   {
    "duration": 20,
    "start_time": "2024-09-16T15:56:23.841Z"
   },
   {
    "duration": 54,
    "start_time": "2024-09-16T15:56:49.039Z"
   },
   {
    "duration": 5,
    "start_time": "2024-09-16T16:00:42.593Z"
   },
   {
    "duration": 14,
    "start_time": "2024-09-16T16:00:47.675Z"
   },
   {
    "duration": 4,
    "start_time": "2024-09-16T16:00:50.896Z"
   },
   {
    "duration": 13,
    "start_time": "2024-09-16T16:01:01.878Z"
   },
   {
    "duration": 5,
    "start_time": "2024-09-16T16:01:07.377Z"
   },
   {
    "duration": 13,
    "start_time": "2024-09-16T16:01:15.958Z"
   },
   {
    "duration": 4,
    "start_time": "2024-09-16T16:01:25.215Z"
   },
   {
    "duration": 5,
    "start_time": "2024-09-16T16:01:53.811Z"
   },
   {
    "duration": 5,
    "start_time": "2024-09-16T16:02:23.227Z"
   },
   {
    "duration": 4,
    "start_time": "2024-09-16T16:02:29.774Z"
   },
   {
    "duration": 4,
    "start_time": "2024-09-16T16:02:50.105Z"
   },
   {
    "duration": 2836,
    "start_time": "2024-09-16T16:43:24.369Z"
   },
   {
    "duration": 299,
    "start_time": "2024-09-16T16:43:27.207Z"
   },
   {
    "duration": 3,
    "start_time": "2024-09-16T16:43:27.508Z"
   },
   {
    "duration": 18,
    "start_time": "2024-09-16T16:43:27.514Z"
   },
   {
    "duration": 8,
    "start_time": "2024-09-16T16:43:27.534Z"
   },
   {
    "duration": 12,
    "start_time": "2024-09-16T16:43:27.544Z"
   },
   {
    "duration": 22,
    "start_time": "2024-09-16T16:43:27.558Z"
   },
   {
    "duration": 4,
    "start_time": "2024-09-16T16:43:27.581Z"
   },
   {
    "duration": 4,
    "start_time": "2024-09-16T16:43:27.587Z"
   },
   {
    "duration": 5,
    "start_time": "2024-09-16T16:43:27.594Z"
   },
   {
    "duration": 9,
    "start_time": "2024-09-16T16:43:27.601Z"
   },
   {
    "duration": 102,
    "start_time": "2024-09-16T16:43:27.612Z"
   },
   {
    "duration": 4,
    "start_time": "2024-09-16T16:43:27.732Z"
   },
   {
    "duration": 6,
    "start_time": "2024-09-16T16:43:28.528Z"
   },
   {
    "duration": 42,
    "start_time": "2024-09-16T16:43:29.017Z"
   },
   {
    "duration": 26,
    "start_time": "2024-09-16T16:43:29.249Z"
   },
   {
    "duration": 35,
    "start_time": "2024-09-16T16:43:29.711Z"
   },
   {
    "duration": 4,
    "start_time": "2024-09-16T16:43:29.930Z"
   },
   {
    "duration": 23,
    "start_time": "2024-09-16T16:43:30.667Z"
   },
   {
    "duration": 73,
    "start_time": "2024-09-16T16:43:31.144Z"
   },
   {
    "duration": 5,
    "start_time": "2024-09-16T16:43:31.526Z"
   },
   {
    "duration": 24,
    "start_time": "2024-09-16T16:43:33.968Z"
   },
   {
    "duration": 6,
    "start_time": "2024-09-16T16:43:34.717Z"
   },
   {
    "duration": 12,
    "start_time": "2024-09-16T16:43:35.490Z"
   },
   {
    "duration": 11,
    "start_time": "2024-09-16T16:43:35.781Z"
   },
   {
    "duration": 8,
    "start_time": "2024-09-16T16:43:36.166Z"
   },
   {
    "duration": 6,
    "start_time": "2024-09-16T16:43:36.507Z"
   },
   {
    "duration": 31,
    "start_time": "2024-09-16T16:43:38.527Z"
   },
   {
    "duration": 13,
    "start_time": "2024-09-16T16:43:39.278Z"
   },
   {
    "duration": 7,
    "start_time": "2024-09-16T16:43:39.592Z"
   },
   {
    "duration": 27,
    "start_time": "2024-09-16T16:43:41.951Z"
   },
   {
    "duration": 3,
    "start_time": "2024-09-16T16:44:34.839Z"
   },
   {
    "duration": 182,
    "start_time": "2024-09-16T16:44:35.428Z"
   },
   {
    "duration": 4,
    "start_time": "2024-09-16T16:44:35.611Z"
   },
   {
    "duration": 18,
    "start_time": "2024-09-16T16:44:35.763Z"
   },
   {
    "duration": 8,
    "start_time": "2024-09-16T16:44:35.933Z"
   },
   {
    "duration": 7,
    "start_time": "2024-09-16T16:44:35.994Z"
   },
   {
    "duration": 17,
    "start_time": "2024-09-16T16:44:36.199Z"
   },
   {
    "duration": 4,
    "start_time": "2024-09-16T16:44:36.371Z"
   },
   {
    "duration": 6,
    "start_time": "2024-09-16T16:44:36.441Z"
   },
   {
    "duration": 17,
    "start_time": "2024-09-16T16:44:36.543Z"
   },
   {
    "duration": 11,
    "start_time": "2024-09-16T16:44:36.704Z"
   },
   {
    "duration": 60,
    "start_time": "2024-09-16T16:44:36.869Z"
   },
   {
    "duration": 4,
    "start_time": "2024-09-16T16:44:36.951Z"
   },
   {
    "duration": 5,
    "start_time": "2024-09-16T16:44:37.733Z"
   },
   {
    "duration": 31,
    "start_time": "2024-09-16T16:44:38.179Z"
   },
   {
    "duration": 13,
    "start_time": "2024-09-16T16:44:38.685Z"
   },
   {
    "duration": 39,
    "start_time": "2024-09-16T16:44:38.855Z"
   },
   {
    "duration": 7,
    "start_time": "2024-09-16T16:44:38.947Z"
   },
   {
    "duration": 20,
    "start_time": "2024-09-16T16:44:40.681Z"
   },
   {
    "duration": 70,
    "start_time": "2024-09-16T16:44:41.229Z"
   },
   {
    "duration": 5,
    "start_time": "2024-09-16T16:44:41.447Z"
   },
   {
    "duration": 23,
    "start_time": "2024-09-16T16:44:42.365Z"
   },
   {
    "duration": 6,
    "start_time": "2024-09-16T16:44:42.611Z"
   },
   {
    "duration": 11,
    "start_time": "2024-09-16T16:44:43.620Z"
   },
   {
    "duration": 11,
    "start_time": "2024-09-16T16:44:43.705Z"
   },
   {
    "duration": 7,
    "start_time": "2024-09-16T16:45:19.828Z"
   },
   {
    "duration": 5,
    "start_time": "2024-09-16T16:49:27.816Z"
   },
   {
    "duration": 3,
    "start_time": "2024-09-16T16:49:32.872Z"
   },
   {
    "duration": 3,
    "start_time": "2024-09-16T16:50:02.112Z"
   },
   {
    "duration": 3,
    "start_time": "2024-09-16T16:50:27.847Z"
   },
   {
    "duration": 7,
    "start_time": "2024-09-16T16:53:36.948Z"
   },
   {
    "duration": 4,
    "start_time": "2024-09-16T17:07:34.806Z"
   },
   {
    "duration": 15,
    "start_time": "2024-09-16T17:09:43.357Z"
   },
   {
    "duration": 12,
    "start_time": "2024-09-16T17:10:21.181Z"
   },
   {
    "duration": 24,
    "start_time": "2024-09-16T17:11:46.726Z"
   },
   {
    "duration": 33,
    "start_time": "2024-09-16T17:12:20.857Z"
   },
   {
    "duration": 27,
    "start_time": "2024-09-16T17:12:28.121Z"
   },
   {
    "duration": 8,
    "start_time": "2024-09-16T17:12:40.542Z"
   },
   {
    "duration": 180,
    "start_time": "2024-09-16T17:12:41.216Z"
   },
   {
    "duration": 3,
    "start_time": "2024-09-16T17:12:41.398Z"
   },
   {
    "duration": 15,
    "start_time": "2024-09-16T17:12:41.470Z"
   },
   {
    "duration": 16,
    "start_time": "2024-09-16T17:12:41.727Z"
   },
   {
    "duration": 2,
    "start_time": "2024-09-16T17:12:41.798Z"
   },
   {
    "duration": 12,
    "start_time": "2024-09-16T17:12:42.063Z"
   },
   {
    "duration": 64,
    "start_time": "2024-09-16T17:12:42.235Z"
   },
   {
    "duration": 4,
    "start_time": "2024-09-16T17:12:42.362Z"
   },
   {
    "duration": 4,
    "start_time": "2024-09-16T17:12:42.556Z"
   },
   {
    "duration": 46,
    "start_time": "2024-09-16T17:12:42.628Z"
   },
   {
    "duration": 9,
    "start_time": "2024-09-16T17:12:42.709Z"
   },
   {
    "duration": 56,
    "start_time": "2024-09-16T17:12:42.936Z"
   },
   {
    "duration": 4,
    "start_time": "2024-09-16T17:12:42.994Z"
   },
   {
    "duration": 33,
    "start_time": "2024-09-16T17:12:44.133Z"
   },
   {
    "duration": 52,
    "start_time": "2024-09-16T17:12:44.291Z"
   },
   {
    "duration": 4,
    "start_time": "2024-09-16T17:12:44.402Z"
   },
   {
    "duration": 39,
    "start_time": "2024-09-16T17:12:45.650Z"
   },
   {
    "duration": 8,
    "start_time": "2024-09-16T17:12:46.401Z"
   },
   {
    "duration": 19,
    "start_time": "2024-09-16T17:12:46.640Z"
   },
   {
    "duration": 18,
    "start_time": "2024-09-16T17:12:46.736Z"
   },
   {
    "duration": 10,
    "start_time": "2024-09-16T17:12:46.821Z"
   },
   {
    "duration": 37,
    "start_time": "2024-09-16T17:12:47.546Z"
   },
   {
    "duration": 34,
    "start_time": "2024-09-16T17:12:48.340Z"
   },
   {
    "duration": 22,
    "start_time": "2024-09-16T17:13:23.715Z"
   },
   {
    "duration": 5,
    "start_time": "2024-09-16T17:13:53.113Z"
   },
   {
    "duration": 14,
    "start_time": "2024-09-16T17:14:48.393Z"
   },
   {
    "duration": 13,
    "start_time": "2024-09-16T17:19:15.991Z"
   },
   {
    "duration": 19,
    "start_time": "2024-09-16T17:19:25.239Z"
   },
   {
    "duration": 13,
    "start_time": "2024-09-16T17:19:35.236Z"
   },
   {
    "duration": 3,
    "start_time": "2024-09-16T17:19:39.474Z"
   },
   {
    "duration": 12,
    "start_time": "2024-09-16T17:20:31.280Z"
   },
   {
    "duration": 14,
    "start_time": "2024-09-16T17:20:36.787Z"
   },
   {
    "duration": 13,
    "start_time": "2024-09-16T17:20:48.535Z"
   },
   {
    "duration": 289,
    "start_time": "2024-09-16T17:21:43.544Z"
   },
   {
    "duration": 23,
    "start_time": "2024-09-16T17:21:57.684Z"
   },
   {
    "duration": 17,
    "start_time": "2024-09-16T17:22:18.785Z"
   },
   {
    "duration": 12,
    "start_time": "2024-09-16T17:24:52.603Z"
   },
   {
    "duration": 18,
    "start_time": "2024-09-16T17:24:55.057Z"
   },
   {
    "duration": 11,
    "start_time": "2024-09-16T17:25:04.337Z"
   },
   {
    "duration": 10,
    "start_time": "2024-09-16T17:25:13.903Z"
   },
   {
    "duration": 10,
    "start_time": "2024-09-16T17:25:21.547Z"
   },
   {
    "duration": 28,
    "start_time": "2024-09-16T17:25:32.031Z"
   },
   {
    "duration": 19,
    "start_time": "2024-09-16T17:25:47.643Z"
   },
   {
    "duration": 23,
    "start_time": "2024-09-16T17:25:55.559Z"
   },
   {
    "duration": 453,
    "start_time": "2024-09-16T17:26:36.981Z"
   },
   {
    "duration": 12,
    "start_time": "2024-09-16T17:26:42.591Z"
   },
   {
    "duration": 3,
    "start_time": "2024-09-16T17:26:53.129Z"
   },
   {
    "duration": 12,
    "start_time": "2024-09-16T17:26:56.601Z"
   },
   {
    "duration": 2,
    "start_time": "2024-09-16T17:27:01.863Z"
   },
   {
    "duration": 14,
    "start_time": "2024-09-16T17:27:37.280Z"
   },
   {
    "duration": 93,
    "start_time": "2024-09-16T17:28:35.523Z"
   },
   {
    "duration": 21,
    "start_time": "2024-09-16T17:29:13.564Z"
   },
   {
    "duration": 3,
    "start_time": "2024-09-16T17:29:18.407Z"
   },
   {
    "duration": 13,
    "start_time": "2024-09-16T17:29:20.166Z"
   },
   {
    "duration": 6,
    "start_time": "2024-09-16T17:29:45.244Z"
   },
   {
    "duration": 6,
    "start_time": "2024-09-16T17:29:52.932Z"
   },
   {
    "duration": 19,
    "start_time": "2024-09-16T17:31:10.768Z"
   },
   {
    "duration": 29,
    "start_time": "2024-09-16T17:31:14.832Z"
   },
   {
    "duration": 3,
    "start_time": "2024-09-16T17:31:36.938Z"
   },
   {
    "duration": 16,
    "start_time": "2024-09-16T17:31:39.974Z"
   },
   {
    "duration": 25,
    "start_time": "2024-09-16T17:33:03.144Z"
   },
   {
    "duration": 12,
    "start_time": "2024-09-16T17:33:13.138Z"
   },
   {
    "duration": 3,
    "start_time": "2024-09-16T17:33:16.276Z"
   },
   {
    "duration": 15,
    "start_time": "2024-09-16T17:33:21.167Z"
   },
   {
    "duration": 19,
    "start_time": "2024-09-16T17:34:48.586Z"
   },
   {
    "duration": 18,
    "start_time": "2024-09-16T17:34:58.061Z"
   },
   {
    "duration": 13,
    "start_time": "2024-09-16T17:35:01.145Z"
   },
   {
    "duration": 21,
    "start_time": "2024-09-16T17:35:04.544Z"
   },
   {
    "duration": 14,
    "start_time": "2024-09-16T17:35:53.092Z"
   },
   {
    "duration": 30,
    "start_time": "2024-09-16T17:36:50.488Z"
   },
   {
    "duration": 7,
    "start_time": "2024-09-16T17:36:57.606Z"
   },
   {
    "duration": 59,
    "start_time": "2024-09-16T17:37:06.315Z"
   },
   {
    "duration": 7,
    "start_time": "2024-09-16T17:37:31.377Z"
   },
   {
    "duration": 6,
    "start_time": "2024-09-16T17:37:36.213Z"
   },
   {
    "duration": 19,
    "start_time": "2024-09-16T17:38:25.096Z"
   },
   {
    "duration": 7,
    "start_time": "2024-09-16T17:38:44.350Z"
   },
   {
    "duration": 5,
    "start_time": "2024-09-16T17:38:52.337Z"
   },
   {
    "duration": 12,
    "start_time": "2024-09-16T17:39:17.873Z"
   },
   {
    "duration": 36,
    "start_time": "2024-09-16T17:39:45.045Z"
   },
   {
    "duration": 40,
    "start_time": "2024-09-16T17:42:39.833Z"
   },
   {
    "duration": 17,
    "start_time": "2024-09-16T17:45:38.907Z"
   },
   {
    "duration": 4,
    "start_time": "2024-09-16T17:45:56.926Z"
   },
   {
    "duration": 5,
    "start_time": "2024-09-16T17:46:13.956Z"
   },
   {
    "duration": 6,
    "start_time": "2024-09-16T17:46:21.909Z"
   },
   {
    "duration": 5,
    "start_time": "2024-09-16T17:46:30.684Z"
   },
   {
    "duration": 5,
    "start_time": "2024-09-16T17:47:27.238Z"
   },
   {
    "duration": 4,
    "start_time": "2024-09-16T17:47:37.217Z"
   },
   {
    "duration": 6,
    "start_time": "2024-09-16T17:47:55.771Z"
   },
   {
    "duration": 4,
    "start_time": "2024-09-16T17:48:07.277Z"
   },
   {
    "duration": 5,
    "start_time": "2024-09-16T17:48:16.006Z"
   },
   {
    "duration": 5,
    "start_time": "2024-09-16T17:48:33.055Z"
   },
   {
    "duration": 7,
    "start_time": "2024-09-16T17:58:11.733Z"
   },
   {
    "duration": 5,
    "start_time": "2024-09-16T17:58:26.264Z"
   },
   {
    "duration": 17,
    "start_time": "2024-09-16T18:00:08.599Z"
   },
   {
    "duration": 4,
    "start_time": "2024-09-16T18:00:20.203Z"
   },
   {
    "duration": 173,
    "start_time": "2024-09-16T18:01:06.444Z"
   },
   {
    "duration": 17,
    "start_time": "2024-09-16T18:01:27.870Z"
   },
   {
    "duration": 14,
    "start_time": "2024-09-16T18:01:48.292Z"
   },
   {
    "duration": 19,
    "start_time": "2024-09-16T18:01:55.073Z"
   },
   {
    "duration": 4,
    "start_time": "2024-09-16T18:01:58.201Z"
   },
   {
    "duration": 20,
    "start_time": "2024-09-16T18:02:15.726Z"
   },
   {
    "duration": 4,
    "start_time": "2024-09-16T18:02:17.776Z"
   },
   {
    "duration": 19,
    "start_time": "2024-09-16T18:02:30.068Z"
   },
   {
    "duration": 5,
    "start_time": "2024-09-16T18:02:30.583Z"
   },
   {
    "duration": 5,
    "start_time": "2024-09-16T18:02:51.488Z"
   },
   {
    "duration": 2,
    "start_time": "2024-09-16T18:05:37.617Z"
   },
   {
    "duration": 14,
    "start_time": "2024-09-16T18:05:50.444Z"
   },
   {
    "duration": 17,
    "start_time": "2024-09-16T18:07:24.639Z"
   },
   {
    "duration": 3,
    "start_time": "2024-09-16T18:07:27.475Z"
   },
   {
    "duration": 3,
    "start_time": "2024-09-16T18:09:35.374Z"
   },
   {
    "duration": 16,
    "start_time": "2024-09-16T18:10:08.843Z"
   },
   {
    "duration": 100,
    "start_time": "2024-09-16T18:10:38.041Z"
   },
   {
    "duration": 5,
    "start_time": "2024-09-16T18:11:12.021Z"
   },
   {
    "duration": 3,
    "start_time": "2024-09-16T18:11:18.379Z"
   },
   {
    "duration": 14,
    "start_time": "2024-09-16T18:11:22.090Z"
   },
   {
    "duration": 27,
    "start_time": "2024-09-16T18:12:01.328Z"
   },
   {
    "duration": 27,
    "start_time": "2024-09-16T18:12:05.556Z"
   },
   {
    "duration": 11,
    "start_time": "2024-09-16T18:15:18.669Z"
   },
   {
    "duration": 20,
    "start_time": "2024-09-16T18:15:19.379Z"
   },
   {
    "duration": 4,
    "start_time": "2024-09-16T18:15:19.631Z"
   },
   {
    "duration": 5,
    "start_time": "2024-09-16T18:15:19.812Z"
   },
   {
    "duration": 20,
    "start_time": "2024-09-16T18:15:20.322Z"
   },
   {
    "duration": 4,
    "start_time": "2024-09-16T18:15:20.537Z"
   },
   {
    "duration": 22,
    "start_time": "2024-09-16T18:15:21.200Z"
   },
   {
    "duration": 3,
    "start_time": "2024-09-16T18:15:21.653Z"
   },
   {
    "duration": 3,
    "start_time": "2024-09-16T18:15:22.438Z"
   },
   {
    "duration": 20,
    "start_time": "2024-09-16T18:15:31.193Z"
   },
   {
    "duration": 4,
    "start_time": "2024-09-16T18:15:31.541Z"
   },
   {
    "duration": 5,
    "start_time": "2024-09-16T18:15:31.782Z"
   },
   {
    "duration": 18,
    "start_time": "2024-09-16T18:15:32.371Z"
   },
   {
    "duration": 4,
    "start_time": "2024-09-16T18:15:32.710Z"
   },
   {
    "duration": 6,
    "start_time": "2024-09-16T18:24:14.737Z"
   },
   {
    "duration": 5,
    "start_time": "2024-09-16T18:24:59.409Z"
   },
   {
    "duration": 4,
    "start_time": "2024-09-16T18:25:16.874Z"
   },
   {
    "duration": 52,
    "start_time": "2024-09-16T18:25:28.406Z"
   },
   {
    "duration": 3,
    "start_time": "2024-09-16T18:27:19.367Z"
   },
   {
    "duration": 24,
    "start_time": "2024-09-16T18:27:22.384Z"
   },
   {
    "duration": 41,
    "start_time": "2024-09-16T18:27:28.100Z"
   },
   {
    "duration": 3,
    "start_time": "2024-09-16T18:27:45.215Z"
   },
   {
    "duration": 42,
    "start_time": "2024-09-16T18:27:48.359Z"
   },
   {
    "duration": 31,
    "start_time": "2024-09-16T18:27:59.640Z"
   },
   {
    "duration": 2,
    "start_time": "2024-09-16T18:28:06.176Z"
   },
   {
    "duration": 3,
    "start_time": "2024-09-16T18:28:11.950Z"
   },
   {
    "duration": 52,
    "start_time": "2024-09-16T18:28:15.389Z"
   },
   {
    "duration": 4,
    "start_time": "2024-09-16T18:28:23.035Z"
   },
   {
    "duration": 59,
    "start_time": "2024-09-16T18:28:27.104Z"
   },
   {
    "duration": 5,
    "start_time": "2024-09-16T18:29:09.372Z"
   },
   {
    "duration": 106,
    "start_time": "2024-09-16T18:29:13.027Z"
   },
   {
    "duration": 3,
    "start_time": "2024-09-16T19:04:02.200Z"
   },
   {
    "duration": 155,
    "start_time": "2024-09-16T19:04:02.361Z"
   },
   {
    "duration": 3,
    "start_time": "2024-09-16T19:04:02.529Z"
   },
   {
    "duration": 15,
    "start_time": "2024-09-16T19:04:02.706Z"
   },
   {
    "duration": 21,
    "start_time": "2024-09-16T19:04:02.946Z"
   },
   {
    "duration": 4,
    "start_time": "2024-09-16T19:04:03.068Z"
   },
   {
    "duration": 4,
    "start_time": "2024-09-16T19:04:03.123Z"
   },
   {
    "duration": 11,
    "start_time": "2024-09-16T19:04:03.366Z"
   },
   {
    "duration": 56,
    "start_time": "2024-09-16T19:04:03.546Z"
   },
   {
    "duration": 6,
    "start_time": "2024-09-16T19:04:03.616Z"
   },
   {
    "duration": 4,
    "start_time": "2024-09-16T19:04:04.333Z"
   },
   {
    "duration": 32,
    "start_time": "2024-09-16T19:04:04.831Z"
   },
   {
    "duration": 13,
    "start_time": "2024-09-16T19:04:04.928Z"
   },
   {
    "duration": 32,
    "start_time": "2024-09-16T19:04:05.094Z"
   },
   {
    "duration": 6,
    "start_time": "2024-09-16T19:04:05.192Z"
   },
   {
    "duration": 19,
    "start_time": "2024-09-16T19:04:05.442Z"
   },
   {
    "duration": 51,
    "start_time": "2024-09-16T19:04:06.325Z"
   },
   {
    "duration": 4,
    "start_time": "2024-09-16T19:04:06.419Z"
   },
   {
    "duration": 23,
    "start_time": "2024-09-16T19:04:06.671Z"
   },
   {
    "duration": 8,
    "start_time": "2024-09-16T19:04:07.035Z"
   },
   {
    "duration": 12,
    "start_time": "2024-09-16T19:04:08.055Z"
   },
   {
    "duration": 11,
    "start_time": "2024-09-16T19:04:08.990Z"
   },
   {
    "duration": 10,
    "start_time": "2024-09-16T19:04:09.368Z"
   },
   {
    "duration": 23,
    "start_time": "2024-09-16T19:04:09.759Z"
   },
   {
    "duration": 4,
    "start_time": "2024-09-16T19:04:10.128Z"
   },
   {
    "duration": 5,
    "start_time": "2024-09-16T19:04:10.754Z"
   },
   {
    "duration": 20,
    "start_time": "2024-09-16T19:04:52.679Z"
   },
   {
    "duration": 4,
    "start_time": "2024-09-16T19:04:52.949Z"
   },
   {
    "duration": 92,
    "start_time": "2024-09-16T19:04:54.539Z"
   },
   {
    "duration": 82,
    "start_time": "2024-09-16T19:05:10.102Z"
   },
   {
    "duration": 83,
    "start_time": "2024-09-16T19:05:12.549Z"
   },
   {
    "duration": 4,
    "start_time": "2024-09-16T19:05:30.139Z"
   },
   {
    "duration": 84,
    "start_time": "2024-09-16T19:05:33.419Z"
   },
   {
    "duration": 84,
    "start_time": "2024-09-16T19:06:35.752Z"
   },
   {
    "duration": 26,
    "start_time": "2024-09-16T19:07:38.461Z"
   },
   {
    "duration": 144,
    "start_time": "2024-09-16T19:08:01.289Z"
   },
   {
    "duration": 155,
    "start_time": "2024-09-16T19:08:17.750Z"
   },
   {
    "duration": 259,
    "start_time": "2024-09-16T19:09:02.697Z"
   },
   {
    "duration": 5,
    "start_time": "2024-09-16T19:09:10.385Z"
   },
   {
    "duration": 925,
    "start_time": "2024-09-16T19:09:13.309Z"
   },
   {
    "duration": 178,
    "start_time": "2024-09-16T19:09:16.844Z"
   },
   {
    "duration": 171,
    "start_time": "2024-09-16T19:10:29.321Z"
   },
   {
    "duration": 157,
    "start_time": "2024-09-16T19:10:39.752Z"
   },
   {
    "duration": 19,
    "start_time": "2024-09-16T19:10:51.221Z"
   },
   {
    "duration": 5,
    "start_time": "2024-09-16T19:11:59.640Z"
   },
   {
    "duration": 10,
    "start_time": "2024-09-16T19:12:07.421Z"
   },
   {
    "duration": 156,
    "start_time": "2024-09-16T19:12:20.478Z"
   },
   {
    "duration": 17,
    "start_time": "2024-09-16T19:12:31.475Z"
   },
   {
    "duration": 14686,
    "start_time": "2024-09-16T19:12:34.815Z"
   },
   {
    "duration": 73,
    "start_time": "2024-09-16T19:13:05.477Z"
   },
   {
    "duration": 9,
    "start_time": "2024-09-16T19:15:20.808Z"
   },
   {
    "duration": 5,
    "start_time": "2024-09-16T19:16:04.354Z"
   },
   {
    "duration": 135,
    "start_time": "2024-09-16T19:16:51.224Z"
   },
   {
    "duration": 100,
    "start_time": "2024-09-16T19:16:59.718Z"
   },
   {
    "duration": 71,
    "start_time": "2024-09-16T19:19:12.781Z"
   },
   {
    "duration": 172,
    "start_time": "2024-09-16T19:20:04.209Z"
   },
   {
    "duration": 18,
    "start_time": "2024-09-16T19:20:12.563Z"
   },
   {
    "duration": 58,
    "start_time": "2024-09-16T19:21:16.819Z"
   },
   {
    "duration": 25,
    "start_time": "2024-09-16T19:21:20.652Z"
   },
   {
    "duration": 22,
    "start_time": "2024-09-16T19:21:29.996Z"
   },
   {
    "duration": 14,
    "start_time": "2024-09-16T19:21:34.174Z"
   },
   {
    "duration": 25,
    "start_time": "2024-09-16T19:21:46.513Z"
   },
   {
    "duration": 17,
    "start_time": "2024-09-16T19:21:55.746Z"
   },
   {
    "duration": 9,
    "start_time": "2024-09-16T19:22:04.149Z"
   },
   {
    "duration": 12,
    "start_time": "2024-09-16T19:22:12.479Z"
   },
   {
    "duration": 208,
    "start_time": "2024-09-16T19:22:36.745Z"
   },
   {
    "duration": 15,
    "start_time": "2024-09-16T19:23:01.678Z"
   },
   {
    "duration": 266,
    "start_time": "2024-09-16T19:23:02.768Z"
   },
   {
    "duration": 5,
    "start_time": "2024-09-16T19:23:37.851Z"
   },
   {
    "duration": 15,
    "start_time": "2024-09-16T19:23:41.122Z"
   },
   {
    "duration": 258,
    "start_time": "2024-09-16T19:23:47.200Z"
   },
   {
    "duration": 14,
    "start_time": "2024-09-16T19:24:31.146Z"
   },
   {
    "duration": 14,
    "start_time": "2024-09-16T19:25:00.070Z"
   },
   {
    "duration": 18,
    "start_time": "2024-09-16T19:25:22.261Z"
   },
   {
    "duration": 15,
    "start_time": "2024-09-16T19:25:52.094Z"
   },
   {
    "duration": 98,
    "start_time": "2024-09-16T19:25:59.376Z"
   },
   {
    "duration": 11,
    "start_time": "2024-09-16T19:26:14.906Z"
   },
   {
    "duration": 60,
    "start_time": "2024-09-16T19:26:21.224Z"
   },
   {
    "duration": 7,
    "start_time": "2024-09-16T19:26:38.574Z"
   },
   {
    "duration": 167,
    "start_time": "2024-09-16T19:27:18.682Z"
   },
   {
    "duration": 157,
    "start_time": "2024-09-16T19:27:34.823Z"
   },
   {
    "duration": 175,
    "start_time": "2024-09-16T19:27:56.290Z"
   },
   {
    "duration": 8,
    "start_time": "2024-09-16T19:28:32.903Z"
   },
   {
    "duration": 10,
    "start_time": "2024-09-16T19:28:39.445Z"
   },
   {
    "duration": 16,
    "start_time": "2024-09-16T19:28:48.816Z"
   },
   {
    "duration": 8,
    "start_time": "2024-09-16T19:28:58.077Z"
   },
   {
    "duration": 4,
    "start_time": "2024-09-16T19:28:59.218Z"
   },
   {
    "duration": 7,
    "start_time": "2024-09-16T19:29:04.429Z"
   },
   {
    "duration": 10,
    "start_time": "2024-09-16T19:29:05.205Z"
   },
   {
    "duration": 16,
    "start_time": "2024-09-16T19:29:08.209Z"
   },
   {
    "duration": 12,
    "start_time": "2024-09-16T19:29:34.633Z"
   },
   {
    "duration": 3,
    "start_time": "2024-09-16T19:29:38.605Z"
   },
   {
    "duration": 518,
    "start_time": "2024-09-16T19:33:46.831Z"
   },
   {
    "duration": 31,
    "start_time": "2024-09-16T19:34:34.051Z"
   },
   {
    "duration": 157,
    "start_time": "2024-09-16T21:07:02.455Z"
   },
   {
    "duration": 886,
    "start_time": "2024-09-16T21:16:30.353Z"
   },
   {
    "duration": 152,
    "start_time": "2024-09-16T21:16:31.244Z"
   },
   {
    "duration": 2,
    "start_time": "2024-09-16T21:16:31.398Z"
   },
   {
    "duration": 18,
    "start_time": "2024-09-16T21:16:31.403Z"
   },
   {
    "duration": 15,
    "start_time": "2024-09-16T21:16:31.540Z"
   },
   {
    "duration": 4,
    "start_time": "2024-09-16T21:16:31.625Z"
   },
   {
    "duration": 3,
    "start_time": "2024-09-16T21:16:31.695Z"
   },
   {
    "duration": 12,
    "start_time": "2024-09-16T21:16:31.953Z"
   },
   {
    "duration": 57,
    "start_time": "2024-09-16T21:16:32.150Z"
   },
   {
    "duration": 5,
    "start_time": "2024-09-16T21:16:32.209Z"
   },
   {
    "duration": 3,
    "start_time": "2024-09-16T21:16:32.467Z"
   },
   {
    "duration": 31,
    "start_time": "2024-09-16T21:16:32.527Z"
   },
   {
    "duration": 12,
    "start_time": "2024-09-16T21:16:32.612Z"
   },
   {
    "duration": 36,
    "start_time": "2024-09-16T21:16:32.789Z"
   },
   {
    "duration": 4,
    "start_time": "2024-09-16T21:16:32.870Z"
   },
   {
    "duration": 18,
    "start_time": "2024-09-16T21:16:33.112Z"
   },
   {
    "duration": 53,
    "start_time": "2024-09-16T21:16:33.308Z"
   },
   {
    "duration": 4,
    "start_time": "2024-09-16T21:16:33.364Z"
   },
   {
    "duration": 25,
    "start_time": "2024-09-16T21:16:34.427Z"
   },
   {
    "duration": 7,
    "start_time": "2024-09-16T21:16:34.966Z"
   },
   {
    "duration": 12,
    "start_time": "2024-09-16T21:16:35.727Z"
   },
   {
    "duration": 11,
    "start_time": "2024-09-16T21:16:36.246Z"
   },
   {
    "duration": 8,
    "start_time": "2024-09-16T21:16:36.319Z"
   },
   {
    "duration": 20,
    "start_time": "2024-09-16T21:16:36.419Z"
   },
   {
    "duration": 3,
    "start_time": "2024-09-16T21:16:36.493Z"
   },
   {
    "duration": 4,
    "start_time": "2024-09-16T21:16:36.569Z"
   },
   {
    "duration": 18,
    "start_time": "2024-09-16T21:16:36.747Z"
   },
   {
    "duration": 4,
    "start_time": "2024-09-16T21:16:36.816Z"
   },
   {
    "duration": 3,
    "start_time": "2024-09-16T21:16:37.598Z"
   },
   {
    "duration": 83,
    "start_time": "2024-09-16T21:16:37.689Z"
   },
   {
    "duration": 7,
    "start_time": "2024-09-16T21:16:39.444Z"
   },
   {
    "duration": 109,
    "start_time": "2024-09-16T21:16:40.804Z"
   },
   {
    "duration": 14,
    "start_time": "2024-09-16T21:16:55.883Z"
   },
   {
    "duration": 575,
    "start_time": "2024-09-16T21:16:59.562Z"
   },
   {
    "duration": 523,
    "start_time": "2024-09-16T21:17:29.042Z"
   },
   {
    "duration": 528,
    "start_time": "2024-09-16T21:17:35.709Z"
   },
   {
    "duration": 16,
    "start_time": "2024-09-16T21:19:43.290Z"
   },
   {
    "duration": 14,
    "start_time": "2024-09-16T21:19:44.353Z"
   },
   {
    "duration": 10,
    "start_time": "2024-09-16T21:31:30.082Z"
   },
   {
    "duration": 6,
    "start_time": "2024-09-16T21:32:46.094Z"
   },
   {
    "duration": 18,
    "start_time": "2024-09-16T21:33:30.537Z"
   },
   {
    "duration": 90,
    "start_time": "2024-09-16T21:34:58.606Z"
   },
   {
    "duration": 308,
    "start_time": "2024-09-16T21:35:44.006Z"
   },
   {
    "duration": 285,
    "start_time": "2024-09-16T21:35:57.365Z"
   },
   {
    "duration": 347,
    "start_time": "2024-09-16T21:36:16.858Z"
   },
   {
    "duration": 280,
    "start_time": "2024-09-16T21:36:35.147Z"
   },
   {
    "duration": 25,
    "start_time": "2024-09-16T21:38:55.965Z"
   },
   {
    "duration": 5,
    "start_time": "2024-09-16T21:39:06.504Z"
   },
   {
    "duration": 242,
    "start_time": "2024-09-16T21:39:15.959Z"
   },
   {
    "duration": 25,
    "start_time": "2024-09-16T21:39:37.081Z"
   },
   {
    "duration": 4,
    "start_time": "2024-09-16T21:39:51.155Z"
   },
   {
    "duration": 367,
    "start_time": "2024-09-16T21:40:02.790Z"
   },
   {
    "duration": 68,
    "start_time": "2024-09-16T21:40:10.435Z"
   },
   {
    "duration": 433,
    "start_time": "2024-09-16T21:40:35.253Z"
   },
   {
    "duration": 3,
    "start_time": "2024-09-16T21:40:44.234Z"
   },
   {
    "duration": 8,
    "start_time": "2024-09-16T21:40:49.490Z"
   },
   {
    "duration": 252,
    "start_time": "2024-09-16T21:41:08.725Z"
   },
   {
    "duration": 4,
    "start_time": "2024-09-16T21:42:09.411Z"
   },
   {
    "duration": 288,
    "start_time": "2024-09-16T21:43:02.265Z"
   },
   {
    "duration": 3,
    "start_time": "2024-09-16T21:44:54.168Z"
   },
   {
    "duration": 16,
    "start_time": "2024-09-16T21:45:54.376Z"
   },
   {
    "duration": 13,
    "start_time": "2024-09-16T21:45:59.395Z"
   },
   {
    "duration": 5,
    "start_time": "2024-09-16T21:46:09.596Z"
   },
   {
    "duration": 6,
    "start_time": "2024-09-16T21:46:36.258Z"
   },
   {
    "duration": 4,
    "start_time": "2024-09-16T21:46:39.609Z"
   },
   {
    "duration": 13,
    "start_time": "2024-09-16T21:47:24.618Z"
   },
   {
    "duration": 26,
    "start_time": "2024-09-16T21:47:36.304Z"
   },
   {
    "duration": 299,
    "start_time": "2024-09-16T21:47:36.388Z"
   },
   {
    "duration": 324,
    "start_time": "2024-09-16T21:48:35.484Z"
   },
   {
    "duration": 386,
    "start_time": "2024-09-16T22:08:25.841Z"
   },
   {
    "duration": 6,
    "start_time": "2024-09-16T22:09:56.074Z"
   },
   {
    "duration": 15,
    "start_time": "2024-09-16T22:11:23.137Z"
   },
   {
    "duration": 25,
    "start_time": "2024-09-16T22:11:29.965Z"
   },
   {
    "duration": 18,
    "start_time": "2024-09-16T22:11:40.310Z"
   },
   {
    "duration": 14,
    "start_time": "2024-09-16T22:14:59.486Z"
   },
   {
    "duration": 94,
    "start_time": "2024-09-16T22:15:07.030Z"
   },
   {
    "duration": 208,
    "start_time": "2024-09-16T22:15:30.004Z"
   },
   {
    "duration": 122,
    "start_time": "2024-09-16T22:15:33.329Z"
   },
   {
    "duration": 102,
    "start_time": "2024-09-16T22:15:40.415Z"
   },
   {
    "duration": 7,
    "start_time": "2024-09-16T22:21:24.445Z"
   },
   {
    "duration": 21,
    "start_time": "2024-09-16T22:22:58.896Z"
   },
   {
    "duration": 2,
    "start_time": "2024-09-16T22:24:09.208Z"
   },
   {
    "duration": 220,
    "start_time": "2024-09-16T22:24:19.214Z"
   },
   {
    "duration": 113,
    "start_time": "2024-09-16T22:24:25.805Z"
   },
   {
    "duration": 12,
    "start_time": "2024-09-16T22:25:58.525Z"
   },
   {
    "duration": 3,
    "start_time": "2024-09-16T22:26:07.218Z"
   },
   {
    "duration": 595,
    "start_time": "2024-09-16T22:26:09.843Z"
   },
   {
    "duration": 49,
    "start_time": "2024-09-16T22:26:16.103Z"
   },
   {
    "duration": 25,
    "start_time": "2024-09-16T22:26:26.270Z"
   },
   {
    "duration": 3,
    "start_time": "2024-09-16T22:27:15.597Z"
   },
   {
    "duration": 47,
    "start_time": "2024-09-16T22:29:24.855Z"
   },
   {
    "duration": 7,
    "start_time": "2024-09-16T22:29:47.978Z"
   },
   {
    "duration": 2,
    "start_time": "2024-09-16T22:33:15.032Z"
   },
   {
    "duration": 187,
    "start_time": "2024-09-16T22:33:17.751Z"
   },
   {
    "duration": 4,
    "start_time": "2024-09-16T22:33:17.941Z"
   },
   {
    "duration": 20,
    "start_time": "2024-09-16T22:33:18.182Z"
   },
   {
    "duration": 18,
    "start_time": "2024-09-16T22:33:18.403Z"
   },
   {
    "duration": 3,
    "start_time": "2024-09-16T22:33:18.436Z"
   },
   {
    "duration": 11,
    "start_time": "2024-09-16T22:33:18.674Z"
   },
   {
    "duration": 56,
    "start_time": "2024-09-16T22:33:19.173Z"
   },
   {
    "duration": 5,
    "start_time": "2024-09-16T22:33:19.349Z"
   },
   {
    "duration": 5,
    "start_time": "2024-09-16T22:33:19.944Z"
   },
   {
    "duration": 44,
    "start_time": "2024-09-16T22:33:20.123Z"
   },
   {
    "duration": 16,
    "start_time": "2024-09-16T22:33:20.313Z"
   },
   {
    "duration": 50,
    "start_time": "2024-09-16T22:33:20.776Z"
   },
   {
    "duration": 6,
    "start_time": "2024-09-16T22:33:20.967Z"
   },
   {
    "duration": 21,
    "start_time": "2024-09-16T22:33:26.298Z"
   },
   {
    "duration": 8,
    "start_time": "2024-09-16T22:33:36.788Z"
   },
   {
    "duration": 12,
    "start_time": "2024-09-16T22:33:51.252Z"
   },
   {
    "duration": 9,
    "start_time": "2024-09-16T22:34:03.489Z"
   },
   {
    "duration": 10,
    "start_time": "2024-09-16T22:34:20.787Z"
   },
   {
    "duration": 11,
    "start_time": "2024-09-16T22:34:26.932Z"
   },
   {
    "duration": 12,
    "start_time": "2024-09-16T22:34:29.924Z"
   },
   {
    "duration": 11,
    "start_time": "2024-09-16T22:34:31.722Z"
   },
   {
    "duration": 155,
    "start_time": "2024-09-16T22:34:33.376Z"
   },
   {
    "duration": 2,
    "start_time": "2024-09-16T22:34:47.464Z"
   },
   {
    "duration": 153,
    "start_time": "2024-09-16T22:34:48.037Z"
   },
   {
    "duration": 2,
    "start_time": "2024-09-16T22:34:48.204Z"
   },
   {
    "duration": 17,
    "start_time": "2024-09-16T22:34:48.402Z"
   },
   {
    "duration": 16,
    "start_time": "2024-09-16T22:34:49.541Z"
   },
   {
    "duration": 3,
    "start_time": "2024-09-16T22:34:49.772Z"
   },
   {
    "duration": 13,
    "start_time": "2024-09-16T22:34:50.946Z"
   },
   {
    "duration": 51,
    "start_time": "2024-09-16T22:34:51.692Z"
   },
   {
    "duration": 4,
    "start_time": "2024-09-16T22:34:51.911Z"
   },
   {
    "duration": 4,
    "start_time": "2024-09-16T22:34:52.776Z"
   },
   {
    "duration": 30,
    "start_time": "2024-09-16T22:34:53.020Z"
   },
   {
    "duration": 10,
    "start_time": "2024-09-16T22:34:54.455Z"
   },
   {
    "duration": 33,
    "start_time": "2024-09-16T22:34:58.652Z"
   },
   {
    "duration": 74,
    "start_time": "2024-09-16T22:37:28.542Z"
   },
   {
    "duration": 5,
    "start_time": "2024-09-16T22:37:28.840Z"
   },
   {
    "duration": 23,
    "start_time": "2024-09-16T22:37:30.049Z"
   },
   {
    "duration": 8,
    "start_time": "2024-09-16T22:37:31.851Z"
   },
   {
    "duration": 11,
    "start_time": "2024-09-16T22:37:33.148Z"
   },
   {
    "duration": 40,
    "start_time": "2024-09-16T22:37:34.750Z"
   },
   {
    "duration": 10,
    "start_time": "2024-09-16T22:37:35.074Z"
   },
   {
    "duration": 23,
    "start_time": "2024-09-16T22:37:38.151Z"
   },
   {
    "duration": 39,
    "start_time": "2024-09-16T22:38:15.449Z"
   },
   {
    "duration": 35,
    "start_time": "2024-09-16T22:38:19.244Z"
   },
   {
    "duration": 5,
    "start_time": "2024-09-16T22:38:19.745Z"
   },
   {
    "duration": 19,
    "start_time": "2024-09-16T22:38:19.990Z"
   },
   {
    "duration": 45,
    "start_time": "2024-09-16T22:38:21.317Z"
   },
   {
    "duration": 5,
    "start_time": "2024-09-16T22:38:21.518Z"
   },
   {
    "duration": 20,
    "start_time": "2024-09-16T22:38:22.436Z"
   },
   {
    "duration": 7,
    "start_time": "2024-09-16T22:38:23.211Z"
   },
   {
    "duration": 10,
    "start_time": "2024-09-16T22:38:24.493Z"
   },
   {
    "duration": 12,
    "start_time": "2024-09-16T22:38:25.251Z"
   },
   {
    "duration": 10,
    "start_time": "2024-09-16T22:38:25.972Z"
   },
   {
    "duration": 20,
    "start_time": "2024-09-16T22:38:26.626Z"
   },
   {
    "duration": 3,
    "start_time": "2024-09-16T22:38:27.252Z"
   },
   {
    "duration": 5,
    "start_time": "2024-09-16T22:38:28.129Z"
   },
   {
    "duration": 18,
    "start_time": "2024-09-16T22:39:24.412Z"
   },
   {
    "duration": 4,
    "start_time": "2024-09-16T22:39:25.088Z"
   },
   {
    "duration": 7,
    "start_time": "2024-09-16T22:39:36.312Z"
   },
   {
    "duration": 10,
    "start_time": "2024-09-16T22:40:07.628Z"
   },
   {
    "duration": 11,
    "start_time": "2024-09-16T22:40:16.309Z"
   },
   {
    "duration": 3,
    "start_time": "2024-09-16T22:40:21.390Z"
   },
   {
    "duration": 6,
    "start_time": "2024-09-16T22:40:36.716Z"
   },
   {
    "duration": 3,
    "start_time": "2024-09-16T22:40:44.215Z"
   },
   {
    "duration": 12,
    "start_time": "2024-09-16T22:40:56.751Z"
   },
   {
    "duration": 6,
    "start_time": "2024-09-16T22:41:16.156Z"
   },
   {
    "duration": 2,
    "start_time": "2024-09-16T22:46:12.803Z"
   },
   {
    "duration": 3,
    "start_time": "2024-09-16T22:46:48.969Z"
   },
   {
    "duration": 4,
    "start_time": "2024-09-16T22:46:53.727Z"
   },
   {
    "duration": 11,
    "start_time": "2024-09-16T22:46:55.922Z"
   },
   {
    "duration": 17,
    "start_time": "2024-09-16T22:47:14.281Z"
   },
   {
    "duration": 4,
    "start_time": "2024-09-16T22:47:17.456Z"
   },
   {
    "duration": 4,
    "start_time": "2024-09-16T22:47:21.649Z"
   },
   {
    "duration": 10,
    "start_time": "2024-09-16T22:47:39.828Z"
   },
   {
    "duration": 18,
    "start_time": "2024-09-16T22:49:27.754Z"
   },
   {
    "duration": 5,
    "start_time": "2024-09-16T22:49:28.944Z"
   },
   {
    "duration": 18,
    "start_time": "2024-09-16T22:49:35.138Z"
   },
   {
    "duration": 18,
    "start_time": "2024-09-16T22:49:38.567Z"
   },
   {
    "duration": 4,
    "start_time": "2024-09-16T22:49:39.152Z"
   },
   {
    "duration": 6,
    "start_time": "2024-09-16T22:50:37.625Z"
   },
   {
    "duration": 3,
    "start_time": "2024-09-16T22:50:41.545Z"
   },
   {
    "duration": 7,
    "start_time": "2024-09-16T22:51:30.237Z"
   },
   {
    "duration": 4,
    "start_time": "2024-09-16T22:51:53.810Z"
   },
   {
    "duration": 10,
    "start_time": "2024-09-16T22:51:58.069Z"
   },
   {
    "duration": 9,
    "start_time": "2024-09-16T22:52:08.976Z"
   },
   {
    "duration": 4,
    "start_time": "2024-09-16T22:52:28.412Z"
   },
   {
    "duration": 3,
    "start_time": "2024-09-16T22:52:34.956Z"
   },
   {
    "duration": 134,
    "start_time": "2024-09-16T22:53:03.191Z"
   },
   {
    "duration": 14,
    "start_time": "2024-09-16T22:53:14.525Z"
   },
   {
    "duration": 3,
    "start_time": "2024-09-16T22:54:05.226Z"
   },
   {
    "duration": 5,
    "start_time": "2024-09-16T22:54:34.106Z"
   },
   {
    "duration": 103,
    "start_time": "2024-09-16T22:54:45.740Z"
   },
   {
    "duration": 5,
    "start_time": "2024-09-16T22:54:52.341Z"
   },
   {
    "duration": 16,
    "start_time": "2024-09-16T22:55:00.128Z"
   },
   {
    "duration": 5,
    "start_time": "2024-09-16T22:55:11.594Z"
   },
   {
    "duration": 2,
    "start_time": "2024-09-16T22:55:58.642Z"
   },
   {
    "duration": 4,
    "start_time": "2024-09-16T22:56:04.299Z"
   },
   {
    "duration": 5,
    "start_time": "2024-09-16T22:56:37.221Z"
   },
   {
    "duration": 8,
    "start_time": "2024-09-16T22:56:47.561Z"
   },
   {
    "duration": 8,
    "start_time": "2024-09-16T22:56:51.946Z"
   },
   {
    "duration": 17,
    "start_time": "2024-09-16T22:56:57.056Z"
   },
   {
    "duration": 11,
    "start_time": "2024-09-16T22:57:04.716Z"
   },
   {
    "duration": 4,
    "start_time": "2024-09-16T22:57:17.631Z"
   },
   {
    "duration": 25,
    "start_time": "2024-09-16T22:57:18.130Z"
   },
   {
    "duration": 9,
    "start_time": "2024-09-16T22:57:18.217Z"
   },
   {
    "duration": 27,
    "start_time": "2024-09-16T22:57:18.402Z"
   },
   {
    "duration": 4,
    "start_time": "2024-09-16T22:57:18.473Z"
   },
   {
    "duration": 19,
    "start_time": "2024-09-16T22:57:19.852Z"
   },
   {
    "duration": 45,
    "start_time": "2024-09-16T22:57:20.279Z"
   },
   {
    "duration": 6,
    "start_time": "2024-09-16T22:57:20.572Z"
   },
   {
    "duration": 19,
    "start_time": "2024-09-16T22:57:21.419Z"
   },
   {
    "duration": 7,
    "start_time": "2024-09-16T22:57:21.787Z"
   },
   {
    "duration": 9,
    "start_time": "2024-09-16T22:57:22.329Z"
   },
   {
    "duration": 11,
    "start_time": "2024-09-16T22:57:22.528Z"
   },
   {
    "duration": 10,
    "start_time": "2024-09-16T22:57:23.935Z"
   },
   {
    "duration": 21,
    "start_time": "2024-09-16T22:57:24.676Z"
   },
   {
    "duration": 2,
    "start_time": "2024-09-16T22:57:25.209Z"
   },
   {
    "duration": 5,
    "start_time": "2024-09-16T22:57:29.171Z"
   },
   {
    "duration": 11,
    "start_time": "2024-09-16T22:57:30.946Z"
   },
   {
    "duration": 22,
    "start_time": "2024-09-16T22:57:33.522Z"
   },
   {
    "duration": 4,
    "start_time": "2024-09-16T22:57:50.676Z"
   },
   {
    "duration": 6,
    "start_time": "2024-09-16T22:57:54.844Z"
   },
   {
    "duration": 12,
    "start_time": "2024-09-16T22:59:41.157Z"
   },
   {
    "duration": 10,
    "start_time": "2024-09-16T23:00:53.557Z"
   },
   {
    "duration": 5,
    "start_time": "2024-09-16T23:01:03.935Z"
   },
   {
    "duration": 21,
    "start_time": "2024-09-16T23:01:06.943Z"
   },
   {
    "duration": 4,
    "start_time": "2024-09-16T23:01:07.367Z"
   },
   {
    "duration": 5,
    "start_time": "2024-09-16T23:10:15.351Z"
   },
   {
    "duration": 3,
    "start_time": "2024-09-16T23:10:16.099Z"
   },
   {
    "duration": 97,
    "start_time": "2024-09-16T23:10:16.394Z"
   },
   {
    "duration": 6,
    "start_time": "2024-09-16T23:10:16.692Z"
   },
   {
    "duration": 2,
    "start_time": "2024-09-16T23:10:16.953Z"
   },
   {
    "duration": 6,
    "start_time": "2024-09-16T23:10:35.865Z"
   },
   {
    "duration": 111,
    "start_time": "2024-09-16T23:11:14.047Z"
   },
   {
    "duration": 12,
    "start_time": "2024-09-16T23:11:53.994Z"
   },
   {
    "duration": 12,
    "start_time": "2024-09-16T23:11:57.003Z"
   },
   {
    "duration": 5,
    "start_time": "2024-09-16T23:12:00.210Z"
   },
   {
    "duration": 174,
    "start_time": "2024-09-16T23:12:38.798Z"
   },
   {
    "duration": 4,
    "start_time": "2024-09-16T23:13:00.388Z"
   },
   {
    "duration": 355,
    "start_time": "2024-09-16T23:13:06.943Z"
   },
   {
    "duration": 177,
    "start_time": "2024-09-16T23:13:18.652Z"
   },
   {
    "duration": 7,
    "start_time": "2024-09-16T23:13:33.882Z"
   },
   {
    "duration": 15,
    "start_time": "2024-09-16T23:13:38.936Z"
   },
   {
    "duration": 13,
    "start_time": "2024-09-16T23:13:44.259Z"
   },
   {
    "duration": 13,
    "start_time": "2024-09-16T23:13:46.280Z"
   },
   {
    "duration": 10,
    "start_time": "2024-09-16T23:13:49.709Z"
   },
   {
    "duration": 195,
    "start_time": "2024-09-16T23:13:58.240Z"
   },
   {
    "duration": 299,
    "start_time": "2024-09-16T23:14:19.852Z"
   },
   {
    "duration": 149,
    "start_time": "2024-09-16T23:14:42.325Z"
   },
   {
    "duration": 15,
    "start_time": "2024-09-16T23:15:36.184Z"
   },
   {
    "duration": 505,
    "start_time": "2024-09-16T23:15:37.082Z"
   },
   {
    "duration": 295,
    "start_time": "2024-09-16T23:15:41.338Z"
   },
   {
    "duration": 92,
    "start_time": "2024-09-16T23:16:04.598Z"
   },
   {
    "duration": 108,
    "start_time": "2024-09-16T23:20:05.520Z"
   },
   {
    "duration": 117,
    "start_time": "2024-09-16T23:21:16.903Z"
   },
   {
    "duration": 118,
    "start_time": "2024-09-16T23:21:25.410Z"
   },
   {
    "duration": 233,
    "start_time": "2024-09-16T23:22:10.230Z"
   },
   {
    "duration": 228,
    "start_time": "2024-09-16T23:22:22.255Z"
   },
   {
    "duration": 222,
    "start_time": "2024-09-16T23:22:29.525Z"
   },
   {
    "duration": 188,
    "start_time": "2024-09-16T23:22:41.507Z"
   },
   {
    "duration": 188,
    "start_time": "2024-09-16T23:23:01.514Z"
   },
   {
    "duration": 202,
    "start_time": "2024-09-16T23:23:14.279Z"
   },
   {
    "duration": 8,
    "start_time": "2024-09-16T23:23:45.065Z"
   },
   {
    "duration": 189,
    "start_time": "2024-09-16T23:23:51.918Z"
   },
   {
    "duration": 7,
    "start_time": "2024-09-16T23:26:24.982Z"
   },
   {
    "duration": 12,
    "start_time": "2024-09-16T23:36:05.545Z"
   },
   {
    "duration": 8,
    "start_time": "2024-09-16T23:36:10.459Z"
   },
   {
    "duration": 15,
    "start_time": "2024-09-16T23:37:07.054Z"
   },
   {
    "duration": 5,
    "start_time": "2024-09-16T23:38:19.437Z"
   },
   {
    "duration": 11,
    "start_time": "2024-09-16T23:38:22.653Z"
   },
   {
    "duration": 29,
    "start_time": "2024-09-16T23:38:26.118Z"
   },
   {
    "duration": 24,
    "start_time": "2024-09-16T23:38:44.676Z"
   },
   {
    "duration": 5,
    "start_time": "2024-09-16T23:38:50.237Z"
   },
   {
    "duration": 4,
    "start_time": "2024-09-16T23:38:54.174Z"
   },
   {
    "duration": 5,
    "start_time": "2024-09-16T23:40:23.991Z"
   },
   {
    "duration": 5,
    "start_time": "2024-09-16T23:41:24.290Z"
   },
   {
    "duration": 6,
    "start_time": "2024-09-16T23:41:53.620Z"
   },
   {
    "duration": 728,
    "start_time": "2024-09-16T23:42:27.067Z"
   },
   {
    "duration": 4,
    "start_time": "2024-09-16T23:43:38.167Z"
   },
   {
    "duration": 6,
    "start_time": "2024-09-16T23:45:22.267Z"
   },
   {
    "duration": 8,
    "start_time": "2024-09-17T00:09:14.570Z"
   },
   {
    "duration": 2,
    "start_time": "2024-09-17T00:12:24.500Z"
   },
   {
    "duration": 4,
    "start_time": "2024-09-17T00:13:20.250Z"
   },
   {
    "duration": 3,
    "start_time": "2024-09-17T00:24:16.541Z"
   },
   {
    "duration": 162,
    "start_time": "2024-09-17T00:24:18.762Z"
   },
   {
    "duration": 3,
    "start_time": "2024-09-17T00:24:21.453Z"
   },
   {
    "duration": 17,
    "start_time": "2024-09-17T00:24:34.653Z"
   },
   {
    "duration": 17,
    "start_time": "2024-09-17T00:24:35.888Z"
   },
   {
    "duration": 3,
    "start_time": "2024-09-17T00:24:36.134Z"
   },
   {
    "duration": 11,
    "start_time": "2024-09-17T00:24:36.979Z"
   },
   {
    "duration": 7,
    "start_time": "2024-09-17T00:24:37.081Z"
   },
   {
    "duration": 11,
    "start_time": "2024-09-17T00:24:37.168Z"
   },
   {
    "duration": 52,
    "start_time": "2024-09-17T00:24:37.319Z"
   },
   {
    "duration": 5,
    "start_time": "2024-09-17T00:24:37.411Z"
   },
   {
    "duration": 4,
    "start_time": "2024-09-17T00:24:37.647Z"
   },
   {
    "duration": 31,
    "start_time": "2024-09-17T00:24:37.732Z"
   },
   {
    "duration": 9,
    "start_time": "2024-09-17T00:24:37.813Z"
   },
   {
    "duration": 34,
    "start_time": "2024-09-17T00:24:37.984Z"
   },
   {
    "duration": 5,
    "start_time": "2024-09-17T00:24:38.069Z"
   },
   {
    "duration": 19,
    "start_time": "2024-09-17T00:24:38.316Z"
   },
   {
    "duration": 50,
    "start_time": "2024-09-17T00:24:38.488Z"
   },
   {
    "duration": 8,
    "start_time": "2024-09-17T00:24:38.568Z"
   },
   {
    "duration": 24,
    "start_time": "2024-09-17T00:24:38.822Z"
   },
   {
    "duration": 7,
    "start_time": "2024-09-17T00:24:38.992Z"
   },
   {
    "duration": 11,
    "start_time": "2024-09-17T00:24:39.238Z"
   },
   {
    "duration": 11,
    "start_time": "2024-09-17T00:24:39.324Z"
   },
   {
    "duration": 10,
    "start_time": "2024-09-17T00:24:39.405Z"
   },
   {
    "duration": 21,
    "start_time": "2024-09-17T00:24:39.492Z"
   },
   {
    "duration": 3,
    "start_time": "2024-09-17T00:24:39.591Z"
   },
   {
    "duration": 5,
    "start_time": "2024-09-17T00:24:39.658Z"
   },
   {
    "duration": 10,
    "start_time": "2024-09-17T00:24:39.829Z"
   },
   {
    "duration": 19,
    "start_time": "2024-09-17T00:24:39.994Z"
   },
   {
    "duration": 3,
    "start_time": "2024-09-17T00:24:40.076Z"
   },
   {
    "duration": 5,
    "start_time": "2024-09-17T00:24:40.247Z"
   },
   {
    "duration": 87,
    "start_time": "2024-09-17T00:24:40.328Z"
   },
   {
    "duration": 7,
    "start_time": "2024-09-17T00:24:40.417Z"
   },
   {
    "duration": 7,
    "start_time": "2024-09-17T00:24:40.496Z"
   },
   {
    "duration": 5,
    "start_time": "2024-09-17T00:24:40.661Z"
   },
   {
    "duration": 151,
    "start_time": "2024-09-17T00:24:40.751Z"
   },
   {
    "duration": 13,
    "start_time": "2024-09-17T00:24:40.998Z"
   },
   {
    "duration": 510,
    "start_time": "2024-09-17T00:24:41.080Z"
   },
   {
    "duration": 308,
    "start_time": "2024-09-17T00:24:41.592Z"
   },
   {
    "duration": 203,
    "start_time": "2024-09-17T00:24:41.902Z"
   },
   {
    "duration": 5,
    "start_time": "2024-09-17T00:24:42.107Z"
   },
   {
    "duration": 2,
    "start_time": "2024-09-17T00:24:42.114Z"
   },
   {
    "duration": 25,
    "start_time": "2024-09-17T00:24:42.118Z"
   },
   {
    "duration": 785,
    "start_time": "2024-09-17T00:24:42.178Z"
   },
   {
    "duration": 2,
    "start_time": "2024-09-17T00:38:54.712Z"
   },
   {
    "duration": 163,
    "start_time": "2024-09-17T00:38:55.356Z"
   },
   {
    "duration": 4,
    "start_time": "2024-09-17T00:38:55.842Z"
   },
   {
    "duration": 16,
    "start_time": "2024-09-17T00:38:56.437Z"
   },
   {
    "duration": 17,
    "start_time": "2024-09-17T00:38:57.678Z"
   },
   {
    "duration": 3,
    "start_time": "2024-09-17T00:38:57.864Z"
   },
   {
    "duration": 11,
    "start_time": "2024-09-17T00:38:58.519Z"
   },
   {
    "duration": 7,
    "start_time": "2024-09-17T00:38:58.604Z"
   },
   {
    "duration": 10,
    "start_time": "2024-09-17T00:38:58.687Z"
   },
   {
    "duration": 55,
    "start_time": "2024-09-17T00:38:58.847Z"
   },
   {
    "duration": 5,
    "start_time": "2024-09-17T00:38:58.953Z"
   },
   {
    "duration": 3,
    "start_time": "2024-09-17T00:38:59.195Z"
   },
   {
    "duration": 35,
    "start_time": "2024-09-17T00:38:59.279Z"
   },
   {
    "duration": 11,
    "start_time": "2024-09-17T00:38:59.355Z"
   },
   {
    "duration": 33,
    "start_time": "2024-09-17T00:38:59.525Z"
   },
   {
    "duration": 4,
    "start_time": "2024-09-17T00:38:59.607Z"
   },
   {
    "duration": 19,
    "start_time": "2024-09-17T00:38:59.856Z"
   },
   {
    "duration": 52,
    "start_time": "2024-09-17T00:39:00.038Z"
   },
   {
    "duration": 4,
    "start_time": "2024-09-17T00:39:00.116Z"
   },
   {
    "duration": 25,
    "start_time": "2024-09-17T00:39:00.370Z"
   },
   {
    "duration": 7,
    "start_time": "2024-09-17T00:39:00.526Z"
   },
   {
    "duration": 232,
    "start_time": "2024-09-17T00:39:00.777Z"
   },
   {
    "duration": 10,
    "start_time": "2024-09-17T00:39:01.012Z"
   },
   {
    "duration": 23,
    "start_time": "2024-09-17T00:39:01.024Z"
   },
   {
    "duration": 22,
    "start_time": "2024-09-17T00:39:01.051Z"
   },
   {
    "duration": 3,
    "start_time": "2024-09-17T00:39:01.108Z"
   },
   {
    "duration": 6,
    "start_time": "2024-09-17T00:39:01.194Z"
   },
   {
    "duration": 10,
    "start_time": "2024-09-17T00:39:01.361Z"
   },
   {
    "duration": 20,
    "start_time": "2024-09-17T00:39:01.527Z"
   },
   {
    "duration": 4,
    "start_time": "2024-09-17T00:39:01.614Z"
   },
   {
    "duration": 3,
    "start_time": "2024-09-17T00:39:01.785Z"
   },
   {
    "duration": 86,
    "start_time": "2024-09-17T00:39:01.881Z"
   },
   {
    "duration": 6,
    "start_time": "2024-09-17T00:39:02.127Z"
   },
   {
    "duration": 3,
    "start_time": "2024-09-17T00:39:02.211Z"
   },
   {
    "duration": 4,
    "start_time": "2024-09-17T00:39:02.290Z"
   },
   {
    "duration": 146,
    "start_time": "2024-09-17T00:39:02.360Z"
   },
   {
    "duration": 14,
    "start_time": "2024-09-17T00:39:02.551Z"
   },
   {
    "duration": 524,
    "start_time": "2024-09-17T00:39:02.664Z"
   },
   {
    "duration": 298,
    "start_time": "2024-09-17T00:39:03.190Z"
   },
   {
    "duration": 209,
    "start_time": "2024-09-17T00:39:03.490Z"
   },
   {
    "duration": 5,
    "start_time": "2024-09-17T00:39:03.701Z"
   },
   {
    "duration": 1,
    "start_time": "2024-09-17T00:39:03.708Z"
   },
   {
    "duration": 5,
    "start_time": "2024-09-17T00:39:03.711Z"
   },
   {
    "duration": 767,
    "start_time": "2024-09-17T00:39:03.718Z"
   },
   {
    "duration": 3,
    "start_time": "2024-09-17T00:39:04.487Z"
   },
   {
    "duration": 150,
    "start_time": "2024-09-17T04:47:40.661Z"
   },
   {
    "duration": 14,
    "start_time": "2024-09-17T04:51:30.300Z"
   },
   {
    "duration": 522,
    "start_time": "2024-09-17T04:51:31.151Z"
   },
   {
    "duration": 295,
    "start_time": "2024-09-17T04:52:18.937Z"
   },
   {
    "duration": 23,
    "start_time": "2024-09-17T04:53:47.303Z"
   },
   {
    "duration": 238,
    "start_time": "2024-09-17T04:54:22.140Z"
   },
   {
    "duration": 5,
    "start_time": "2024-09-17T04:59:54.451Z"
   },
   {
    "duration": 4,
    "start_time": "2024-09-17T04:59:54.965Z"
   },
   {
    "duration": 727,
    "start_time": "2024-09-17T05:07:15.739Z"
   }
  ],
  "kernelspec": {
   "display_name": "Python 3 (ipykernel)",
   "language": "python",
   "name": "python3"
  },
  "language_info": {
   "codemirror_mode": {
    "name": "ipython",
    "version": 3
   },
   "file_extension": ".py",
   "mimetype": "text/x-python",
   "name": "python",
   "nbconvert_exporter": "python",
   "pygments_lexer": "ipython3",
   "version": "3.9.19"
  },
  "toc": {
   "base_numbering": 1,
   "nav_menu": {},
   "number_sections": true,
   "sideBar": true,
   "skip_h1_title": false,
   "title_cell": "Table of Contents",
   "title_sidebar": "Contents",
   "toc_cell": false,
   "toc_position": {
    "height": "calc(100% - 180px)",
    "left": "10px",
    "top": "150px",
    "width": "165px"
   },
   "toc_section_display": true,
   "toc_window_display": true
  }
 },
 "nbformat": 4,
 "nbformat_minor": 2
}
